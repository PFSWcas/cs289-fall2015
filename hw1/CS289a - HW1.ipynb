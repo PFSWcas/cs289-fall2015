{
 "metadata": {
  "name": "",
  "signature": "sha256:bd6d11a0ba184f3d0f423038063f45ccdf0f6aa2949f4b2a76629751381f5560"
 },
 "nbformat": 3,
 "nbformat_minor": 0,
 "worksheets": [
  {
   "cells": [
    {
     "cell_type": "markdown",
     "metadata": {},
     "source": [
      "## Problem 1 - Support Vector Machine\n",
      "\n",
      "Train a linear SVM using raw pixels as features. Plot the error rate on a validation set versus the number of training examples that you used to train your classifier. The choices of the number of training examples should be 100, 200, 500, 1,000, 2,000, 5,000 and 10,000. Make sure you set aside 10,000 other training points as a validation set. You should expect accuracies between 70% and 90% at this stage."
     ]
    },
    {
     "cell_type": "code",
     "collapsed": false,
     "input": [
      "# from IPython.display import Image\n",
      "# Image(filename=\"./images/1_svm_error_rate.png\")"
     ],
     "language": "python",
     "metadata": {},
     "outputs": [],
     "prompt_number": 1
    },
    {
     "cell_type": "markdown",
     "metadata": {},
     "source": [
      "## Problem 2 - Confusion Matrix\n",
      "\n",
      "Create confusion matrices for your experiments in Problem 1. Color code your results and report them. You can use built-in implementations to generate confusion matrices. What insights can you get about the performance of your algorithm from looking at the confusion matrix?\n",
      "\n",
      "> The confusion matrices tell us the types of mistakes that are being committed in our multi-class classification problem. The correct values are highlighted diagonally, while the adjacent blue values mark the errors. For example, in training set size 100, several predicted 9 values were actually 4s. This type of information can help us develop new features that will do a better job distinguishing similar classes."
     ]
    },
    {
     "cell_type": "code",
     "collapsed": false,
     "input": [
      "# Image(filename=\"./images/2_confusion_matrix.png\")"
     ],
     "language": "python",
     "metadata": {},
     "outputs": [],
     "prompt_number": 2
    },
    {
     "cell_type": "markdown",
     "metadata": {},
     "source": [
      "## Problem 3 - Digit - Cross Validation\n",
      "\n",
      "Explain why cross-validation helps:\n",
      "\n",
      "> Cross-validation helps by training multiple models on different subsets of data in order to help us pick models that will best generalize to new data. It prevents over-fitting and helps us find the best features and hyperparameters. Once we have selected the best features and hyperparameters from the cross validation process, we are able to then train a new model using all the training data without having to set aside a hold-out test set.\n",
      "\n",
      "Find the optimal value of the parameter 'C' using 10-fold cross-validation on the training set with 10,000 examples. Train an SVM with this value of 'C' and report the validation error rate.\n",
      "\n",
      "> A **'C'** value of 0.01 achieved a mean validation error rate of 15.6% with 10-fold cross-validation using LinearSVC. My Kaggle submission used a 3rd degree polynomial kernel SVC achieved a validation error rate of 2.64% with C=1000. The cross-validation process took a long time so the output has been omitted below. See appendix for full cross-validation results.\n",
      "\n",
      "## Problem 4 - Spam - Cross Validation\n",
      "\n",
      "Train a linear SVM for your spam dataset. Please state your 'C' value, your accuracy using cross validation, and (briefly) what features you added, removed, or modified, if any. Adding features is optional.\n",
      "\n",
      "> My best performing **'C'** value was 100 using LinearSVC on 10-fold cross validation, which got an error rate of 19.06%. This same model achieved 23.6% error rate on Kaggle. I added features to count the number of `@`, `unsubscribe`, `sex`, `penis`, `pics`, `drugs`, `money`, `click`, `online`, `pills`, and `viagra`. These features are targeted more towards identifying spam. See appendix for full cross-validation results."
     ]
    },
    {
     "cell_type": "markdown",
     "metadata": {},
     "source": [
      "# Appendix - Code"
     ]
    },
    {
     "cell_type": "code",
     "collapsed": false,
     "input": [
      "import random\n",
      "import time\n",
      "import collections\n",
      "import glob\n",
      "import re\n",
      "import scipy.io\n",
      "import numpy as np\n",
      "from sklearn.svm import LinearSVC, SVC\n",
      "from sklearn import preprocessing\n",
      "from sklearn.metrics import accuracy_score, confusion_matrix\n",
      "import matplotlib.pyplot as plt\n",
      "%matplotlib inline\n",
      "\n",
      "import sys\n",
      "print sys.version"
     ],
     "language": "python",
     "metadata": {},
     "outputs": [
      {
       "output_type": "stream",
       "stream": "stdout",
       "text": [
        "2.7.9 (default, Jan  7 2015, 11:49:12) \n",
        "[GCC 4.2.1 Compatible Apple LLVM 6.0 (clang-600.0.56)]\n"
       ]
      }
     ],
     "prompt_number": 1
    },
    {
     "cell_type": "markdown",
     "metadata": {},
     "source": [
      "## Data Partitioning"
     ]
    },
    {
     "cell_type": "code",
     "collapsed": false,
     "input": [
      "# Set seed\n",
      "random.seed(289)\n",
      "\n",
      "# Load data\n",
      "digit_test = scipy.io.loadmat('./data/digit-dataset/test.mat')\n",
      "digit_train = scipy.io.loadmat('./data/digit-dataset/train.mat')\n",
      "\n",
      "digit_n = len(digit_train['train_labels'])\n",
      "digit_y = digit_train['train_labels']\n",
      "digit_X = digit_train['train_images'].T.reshape(digit_n, 28 * 28)\n",
      "digit_test_X = digit_test['test_images'].T.reshape(len(digit_test['test_images'].T), 28 * 28)\n",
      "\n",
      "# Associate first element in each pixel array with its label\n",
      "digit_data = np.concatenate((digit_y, digit_X), axis=1)"
     ],
     "language": "python",
     "metadata": {},
     "outputs": [],
     "prompt_number": 2
    },
    {
     "cell_type": "code",
     "collapsed": false,
     "input": [
      "# Plot some digits\n",
      "def plot_digits(pixels, n, plot_n):\n",
      "    plt.subplot(1, plot_n, 1)\n",
      "    for x, y in enumerate(random.sample(xrange(n), plot_n)):\n",
      "        plt.subplot(1, plot_n, x+1)\n",
      "        plt.axis('off')\n",
      "        plt.imshow(pixels[:, :, y], cmap='Greys')\n",
      "    plt.show()\n",
      "\n",
      "plot_digits(digit_train['train_images'], n=digit_n, plot_n=5)"
     ],
     "language": "python",
     "metadata": {},
     "outputs": [
      {
       "metadata": {},
       "output_type": "display_data",
       "png": "[encoded data removed]",
       "text": [
        "<matplotlib.figure.Figure at 0x10d810910>"
       ]
      }
     ],
     "prompt_number": 3
    },
    {
     "cell_type": "markdown",
     "metadata": {},
     "source": [
      "## Problem 1 - Support Vector Machine"
     ]
    },
    {
     "cell_type": "code",
     "collapsed": false,
     "input": [
      "def SVM_predict(data, x):\n",
      "    # randomize and partition data\n",
      "    np.random.shuffle(data)\n",
      "    train_X = data[:x, 1:]\n",
      "    train_y = data[:x, 0 ]\n",
      "    test_X  = data[x:x+10000, 1:]\n",
      "    test_y  = data[x:x+10000, 0 ]\n",
      "    # fit SVM\n",
      "    clf = LinearSVC().fit(train_X, train_y)\n",
      "    predicted = clf.predict(test_X)\n",
      "    return predicted, test_y\n",
      "\n",
      "def problem_1(data):\n",
      "    train_size = [100, 200, 500, 1000, 2000, 5000, 10000]\n",
      "    scores = []\n",
      "    for x in train_size:\n",
      "        predicted, test_y = SVM_predict(data, x)\n",
      "        scores.append((x, 1 - accuracy_score(test_y, predicted)))\n",
      "    return scores\n",
      "\n",
      "def problem_1_plot(scores):\n",
      "    key = [x for x, y in scores]\n",
      "    value = [y for x, y in scores]\n",
      "    plt.bar(range(len(scores)), value, align='center')\n",
      "    plt.xticks(range(len(scores)), key)\n",
      "    plt.title('SVM Error Rate')\n",
      "    plt.show()\n",
      "\n",
      "scores_1 = problem_1(digit_data)\n",
      "problem_1_plot(scores_1)"
     ],
     "language": "python",
     "metadata": {},
     "outputs": [
      {
       "metadata": {},
       "output_type": "display_data",
       "png": "[encoded data removed]",
       "text": [
        "<matplotlib.figure.Figure at 0x10a4f6dd0>"
       ]
      }
     ],
     "prompt_number": 4
    },
    {
     "cell_type": "markdown",
     "metadata": {},
     "source": [
      "## Problem 2 - Confusion Matrix"
     ]
    },
    {
     "cell_type": "code",
     "collapsed": false,
     "input": [
      "def problem_2(data):\n",
      "    train_size = [100, 200, 500, 1000, 2000, 5000, 10000]\n",
      "    matrix_scores = []\n",
      "\n",
      "    for x in train_size:\n",
      "        predicted, test_y = SVM_predict(data, x)\n",
      "        cm = confusion_matrix(test_y, predicted)\n",
      "        matrix_scores.append((x, cm))\n",
      "\n",
      "    return matrix_scores\n",
      "\n",
      "def problem_2_plot(matrix_scores):\n",
      "    fig, axes = plt.subplots(nrows=2, ncols=4, figsize=(14, 7))\n",
      "    axes[-1, -1].axis('off')\n",
      "    fig.subplots_adjust(hspace=0.25, wspace=.3)\n",
      "\n",
      "    for data, ax in zip(matrix_scores, axes.flat):\n",
      "        im = ax.imshow(data[1], interpolation='none')\n",
      "        ax.set_title('Training Size: {}'.format(data[0]))\n",
      "        ax.set_xlabel('Predicted label')\n",
      "        ax.set_ylabel('True label')\n",
      "\n",
      "    # Make an axis for the colorbar on the right side\n",
      "    cax = fig.add_axes([0.9, 0.1, 0.03, 0.8])\n",
      "    fig.subplots_adjust(right=0.87)\n",
      "    fig.colorbar(im, cax=cax)\n",
      "    fig.suptitle(\"Confusion Matrices\", fontsize=18)\n",
      "    plt.show()\n",
      "\n",
      "problem_2_plot(problem_2(digit_data))"
     ],
     "language": "python",
     "metadata": {},
     "outputs": [
      {
       "metadata": {},
       "output_type": "display_data",
       "png": "[encoded data removed]",
       "text": [
        "<matplotlib.figure.Figure at 0x10e1390d0>"
       ]
      }
     ],
     "prompt_number": 5
    },
    {
     "cell_type": "markdown",
     "metadata": {},
     "source": [
      "## Problem 3 - Digit - Cross Validation"
     ]
    },
    {
     "cell_type": "code",
     "collapsed": false,
     "input": [
      "def problem_3(data, n_samples, folds, C_hyperparam):\n",
      "    print \"Problem 3: Digit Classification Cross Validation\"\n",
      "    np.random.shuffle(data)\n",
      "    scaler = preprocessing.StandardScaler()\n",
      "    X = data[:n_samples, 1:]\n",
      "    X = scaler.fit(X).transform(X)\n",
      "    y = data[:n_samples, 0 ]\n",
      "    fold_size = len(y)/folds\n",
      "\n",
      "    for c in C_hyperparam:\n",
      "        print \"{:<7}{:<6}{:<8}{:<6}\".format('C', 'Fold', 'Error', 'Time')\n",
      "        kfold_errors = []\n",
      "        for i, x in enumerate(range(0, n_samples, fold_size)):\n",
      "            start_time = time.time()\n",
      "            all_idx  = set(range(0, n_samples))\n",
      "            test_idx = set(range(x, x + fold_size))\n",
      "            train_idx = sorted(list(all_idx - test_idx))\n",
      "            test_idx  = sorted(list(test_idx))            \n",
      "\n",
      "            train_fold_X, train_fold_y = X[train_idx], y[train_idx]\n",
      "            test_fold_X,  test_fold_y  = X[test_idx],  y[test_idx]\n",
      "\n",
      "            clf = LinearSVC(C=c).fit(train_fold_X, train_fold_y)\n",
      "            predicted = clf.predict(test_fold_X)\n",
      "            error = 1 - accuracy_score(test_fold_y, predicted)\n",
      "            kfold_errors.append(error)\n",
      "            end_time = time.time()\n",
      "            print \"{:<7}{:<6}{:<8}{:<6}\".\\\n",
      "                format(c, i, error, round(end_time - start_time, 2))\n",
      "\n",
      "        mean_error = np.mean(kfold_errors)\n",
      "        print \"Mean error:  {}\\n\".format(mean_error)\n",
      "\n",
      "\n",
      "problem_3(digit_data, n_samples=10000, folds=10, C_hyperparam=[.001, .01, .1, 1])"
     ],
     "language": "python",
     "metadata": {},
     "outputs": [
      {
       "output_type": "stream",
       "stream": "stdout",
       "text": [
        "Problem 3: Digit Classification Cross Validation\n",
        "C      Fold  Error   Time  "
       ]
      },
      {
       "output_type": "stream",
       "stream": "stdout",
       "text": [
        "\n",
        "0.001  0     0.161   12.32 "
       ]
      },
      {
       "output_type": "stream",
       "stream": "stdout",
       "text": [
        "\n",
        "0.001  1     0.157   11.15 "
       ]
      },
      {
       "output_type": "stream",
       "stream": "stdout",
       "text": [
        "\n",
        "0.001  2     0.16    14.9  "
       ]
      },
      {
       "output_type": "stream",
       "stream": "stdout",
       "text": [
        "\n",
        "0.001  3     0.186   14.12 "
       ]
      },
      {
       "output_type": "stream",
       "stream": "stdout",
       "text": [
        "\n",
        "0.001  4     0.161   16.71 "
       ]
      },
      {
       "output_type": "stream",
       "stream": "stdout",
       "text": [
        "\n",
        "0.001  5     0.15    11.79 "
       ]
      },
      {
       "output_type": "stream",
       "stream": "stdout",
       "text": [
        "\n",
        "0.001  6     0.173   13.99 "
       ]
      },
      {
       "output_type": "stream",
       "stream": "stdout",
       "text": [
        "\n",
        "0.001  7     0.166   15.41 "
       ]
      },
      {
       "output_type": "stream",
       "stream": "stdout",
       "text": [
        "\n",
        "0.001  8     0.172   16.73 "
       ]
      },
      {
       "output_type": "stream",
       "stream": "stdout",
       "text": [
        "\n",
        "0.001  9     0.162   13.6  "
       ]
      },
      {
       "output_type": "stream",
       "stream": "stdout",
       "text": [
        "\n",
        "Mean error:  0.1648\n",
        "\n",
        "C      Fold  Error   Time  \n",
        "0.01   0     0.15    33.32 "
       ]
      },
      {
       "output_type": "stream",
       "stream": "stdout",
       "text": [
        "\n",
        "0.01   1     0.156   32.92 "
       ]
      },
      {
       "output_type": "stream",
       "stream": "stdout",
       "text": [
        "\n",
        "0.01   2     0.148   37.28 "
       ]
      },
      {
       "output_type": "stream",
       "stream": "stdout",
       "text": [
        "\n",
        "0.01   3     0.175   34.18 "
       ]
      },
      {
       "output_type": "stream",
       "stream": "stdout",
       "text": [
        "\n",
        "0.01   4     0.148   37.93 "
       ]
      },
      {
       "output_type": "stream",
       "stream": "stdout",
       "text": [
        "\n",
        "0.01   5     0.148   29.31 "
       ]
      },
      {
       "output_type": "stream",
       "stream": "stdout",
       "text": [
        "\n",
        "0.01   6     0.161   32.5  "
       ]
      },
      {
       "output_type": "stream",
       "stream": "stdout",
       "text": [
        "\n",
        "0.01   7     0.167   34.18 "
       ]
      },
      {
       "output_type": "stream",
       "stream": "stdout",
       "text": [
        "\n",
        "0.01   8     0.152   31.99 "
       ]
      },
      {
       "output_type": "stream",
       "stream": "stdout",
       "text": [
        "\n",
        "0.01   9     0.154   32.83 "
       ]
      },
      {
       "output_type": "stream",
       "stream": "stdout",
       "text": [
        "\n",
        "Mean error:  0.1559\n",
        "\n",
        "C      Fold  Error   Time  \n",
        "0.1    0     0.166   37.75 "
       ]
      },
      {
       "output_type": "stream",
       "stream": "stdout",
       "text": [
        "\n",
        "0.1    1     0.167   37.96 "
       ]
      },
      {
       "output_type": "stream",
       "stream": "stdout",
       "text": [
        "\n",
        "0.1    2     0.169   38.97 "
       ]
      },
      {
       "output_type": "stream",
       "stream": "stdout",
       "text": [
        "\n",
        "0.1    3     0.196   38.38 "
       ]
      },
      {
       "output_type": "stream",
       "stream": "stdout",
       "text": [
        "\n",
        "0.1    4     0.175   39.72 "
       ]
      },
      {
       "output_type": "stream",
       "stream": "stdout",
       "text": [
        "\n",
        "0.1    5     0.164   39.1  "
       ]
      },
      {
       "output_type": "stream",
       "stream": "stdout",
       "text": [
        "\n",
        "0.1    6     0.185   39.39 "
       ]
      },
      {
       "output_type": "stream",
       "stream": "stdout",
       "text": [
        "\n",
        "0.1    7     0.19    38.59 "
       ]
      },
      {
       "output_type": "stream",
       "stream": "stdout",
       "text": [
        "\n",
        "0.1    8     0.174   39.43 "
       ]
      },
      {
       "output_type": "stream",
       "stream": "stdout",
       "text": [
        "\n",
        "0.1    9     0.167   39.31 "
       ]
      },
      {
       "output_type": "stream",
       "stream": "stdout",
       "text": [
        "\n",
        "Mean error:  0.1753\n",
        "\n",
        "C      Fold  Error   Time  \n",
        "1      0     0.192   48.21 "
       ]
      },
      {
       "output_type": "stream",
       "stream": "stdout",
       "text": [
        "\n",
        "1      1     0.198   46.22 "
       ]
      },
      {
       "output_type": "stream",
       "stream": "stdout",
       "text": [
        "\n",
        "1      2     0.193   47.45 "
       ]
      },
      {
       "output_type": "stream",
       "stream": "stdout",
       "text": [
        "\n",
        "1      3     0.23    45.73 "
       ]
      },
      {
       "output_type": "stream",
       "stream": "stdout",
       "text": [
        "\n",
        "1      4     0.19    43.34 "
       ]
      },
      {
       "output_type": "stream",
       "stream": "stdout",
       "text": [
        "\n",
        "1      5     0.188   45.88 "
       ]
      },
      {
       "output_type": "stream",
       "stream": "stdout",
       "text": [
        "\n",
        "1      6     0.219   46.05 "
       ]
      },
      {
       "output_type": "stream",
       "stream": "stdout",
       "text": [
        "\n",
        "1      7     0.209   44.59 "
       ]
      },
      {
       "output_type": "stream",
       "stream": "stdout",
       "text": [
        "\n",
        "1      8     0.221   43.85 "
       ]
      },
      {
       "output_type": "stream",
       "stream": "stdout",
       "text": [
        "\n",
        "1      9     0.207   44.61 "
       ]
      },
      {
       "output_type": "stream",
       "stream": "stdout",
       "text": [
        "\n",
        "Mean error:  0.2047\n",
        "\n"
       ]
      },
      {
       "output_type": "stream",
       "stream": "stderr",
       "text": [
        "/Users/jsemer/.virtualenvs/cs289/lib/python2.7/site-packages/sklearn/utils/validation.py:332: UserWarning: StandardScaler assumes floating point values as input, got uint8\n",
        "  \"got %s\" % (estimator, X.dtype))\n"
       ]
      }
     ],
     "prompt_number": 6
    },
    {
     "cell_type": "code",
     "collapsed": false,
     "input": [
      "def digit_kaggle_submisison(train_data, test_X, n_samples, c):\n",
      "    # combine test and training data for scaling\n",
      "    scaler = preprocessing.StandardScaler()\n",
      "    data = np.append(train_data[:, 1:], test_X, axis=0)\n",
      "    X = scaler.fit(data).transform(data)\n",
      "    \n",
      "    # re-partition scaled training and test data\n",
      "    train_X = X[:len(train_data), :]\n",
      "    test_X  = X[len(train_data):, :]\n",
      "    train_y = train_data[:, 0]\n",
      "    \n",
      "    clf = SVC(C=c, kernel='poly', degree=3).fit(train_X, train_y)\n",
      "    predicted = clf.predict(test_X)\n",
      "    return predicted\n",
      "\n",
      "# digit_kaggle_pred = digit_kaggle_submisison(train_data=digit_data, test_X=digit_test_X, n_samples=60000, c=1000)\n",
      "# digit_save_data = zip(range(1, len(digit_test_X) + 1), digit_kaggle_pred)\n",
      "# np.savetxt(\"./predictions/digit_predictions_scaled_SVC_poly3.csv\", \n",
      "#            digit_save_data, fmt=\"%i\", delimiter=\",\", header=\"Id,Category\", comments=\"\")"
     ],
     "language": "python",
     "metadata": {},
     "outputs": [],
     "prompt_number": 7
    },
    {
     "cell_type": "markdown",
     "metadata": {},
     "source": [
      "## Problem 4 - Spam - Cross Validation"
     ]
    },
    {
     "cell_type": "code",
     "collapsed": false,
     "input": [
      "NUM_TRAINING_EXAMPLES = 5172\n",
      "NUM_TEST_EXAMPLES = 5857\n",
      "\n",
      "BASE_DIR = './data/spam-dataset/'\n",
      "SPAM_DIR = 'spam/'\n",
      "HAM_DIR = 'ham/'\n",
      "TEST_DIR = 'test/'\n",
      "\n",
      "# ************* Features *************\n",
      "\n",
      "# Features that look for certain words\n",
      "def freq_pain_feature(text, freq):\n",
      "    return float(freq['pain'])\n",
      "\n",
      "def freq_private_feature(text, freq):\n",
      "    return float(freq['private'])\n",
      "\n",
      "def freq_bank_feature(text, freq):\n",
      "    return float(freq['bank'])\n",
      "\n",
      "def freq_money_feature(text, freq):\n",
      "    return float(freq['money'])\n",
      "\n",
      "def freq_drug_feature(text, freq):\n",
      "    return float(freq['drug'])\n",
      "\n",
      "def freq_spam_feature(text, freq):\n",
      "    return float(freq['spam'])\n",
      "\n",
      "def freq_prescription_feature(text, freq):\n",
      "    return float(freq['prescription'])\n",
      "\n",
      "def freq_creative_feature(text, freq):\n",
      "    return float(freq['creative'])\n",
      "\n",
      "def freq_height_feature(text, freq):\n",
      "    return float(freq['height'])\n",
      "\n",
      "def freq_featured_feature(text, freq):\n",
      "    return float(freq['featured'])\n",
      "\n",
      "def freq_differ_feature(text, freq):\n",
      "    return float(freq['differ'])\n",
      "\n",
      "def freq_width_feature(text, freq):\n",
      "    return float(freq['width'])\n",
      "\n",
      "def freq_other_feature(text, freq):\n",
      "    return float(freq['other'])\n",
      "\n",
      "def freq_energy_feature(text, freq):\n",
      "    return float(freq['energy'])\n",
      "\n",
      "def freq_business_feature(text, freq):\n",
      "    return float(freq['business'])\n",
      "\n",
      "def freq_message_feature(text, freq):\n",
      "    return float(freq['message'])\n",
      "\n",
      "def freq_volumes_feature(text, freq):\n",
      "    return float(freq['volumes'])\n",
      "\n",
      "def freq_revision_feature(text, freq):\n",
      "    return float(freq['revision'])\n",
      "\n",
      "def freq_path_feature(text, freq):\n",
      "    return float(freq['path'])\n",
      "\n",
      "def freq_meter_feature(text, freq):\n",
      "    return float(freq['meter'])\n",
      "\n",
      "def freq_memo_feature(text, freq):\n",
      "    return float(freq['memo'])\n",
      "\n",
      "def freq_planning_feature(text, freq):\n",
      "    return float(freq['planning'])\n",
      "\n",
      "def freq_pleased_feature(text, freq):\n",
      "    return float(freq['pleased'])\n",
      "\n",
      "def freq_record_feature(text, freq):\n",
      "    return float(freq['record'])\n",
      "\n",
      "def freq_out_feature(text, freq):\n",
      "    return float(freq['out'])\n",
      "\n",
      "# Features that look for certain characters\n",
      "def freq_semicolon_feature(text, freq):\n",
      "    return text.count(';')\n",
      "\n",
      "def freq_dollar_feature(text, freq):\n",
      "    return text.count('$')\n",
      "\n",
      "def freq_sharp_feature(text, freq):\n",
      "    return text.count('#')\n",
      "\n",
      "def freq_exclamation_feature(text, freq):\n",
      "    return text.count('!')\n",
      "\n",
      "def freq_para_feature(text, freq):\n",
      "    return text.count('(')\n",
      "\n",
      "def freq_bracket_feature(text, freq):\n",
      "    return text.count('[')\n",
      "\n",
      "def freq_and_feature(text, freq):\n",
      "    return text.count('&')\n",
      "\n",
      "## my added features\n",
      "def freq_and_feature(text, freq):\n",
      "    return text.count('@')\n",
      "\n",
      "def freq_and_feature(text, freq):\n",
      "    return text.count('unsubscribe')\n",
      "\n",
      "def freq_and_feature(text, freq):\n",
      "    return text.count('sex')\n",
      "\n",
      "def freq_and_feature(text, freq):\n",
      "    return text.count('penis')\n",
      "\n",
      "def freq_and_feature(text, freq):\n",
      "    return text.count('pics')\n",
      "\n",
      "def freq_and_feature(text, freq):\n",
      "    return text.count('drugs')\n",
      "\n",
      "def freq_and_feature(text, freq):\n",
      "    return text.count('money')\n",
      "\n",
      "def freq_and_feature(text, freq):\n",
      "    return text.count('click')\n",
      "\n",
      "def freq_and_feature(text, freq):\n",
      "    return text.count('online')\n",
      "\n",
      "def freq_and_feature(text, freq):\n",
      "    return text.count('pills')\n",
      "\n",
      "def freq_and_feature(text, freq):\n",
      "    return text.count('viagra')\n",
      "\n",
      "# --------- Add your own feature methods ----------\n",
      "def example_feature(text, freq):\n",
      "    return int('example' in text)\n",
      "\n",
      "# Generates a feature vector\n",
      "def generate_feature_vector(text, freq):\n",
      "    feature = []\n",
      "    feature.append(freq_pain_feature(text, freq))\n",
      "    feature.append(freq_private_feature(text, freq))\n",
      "    feature.append(freq_bank_feature(text, freq))\n",
      "    feature.append(freq_money_feature(text, freq))\n",
      "    feature.append(freq_drug_feature(text, freq))\n",
      "    feature.append(freq_spam_feature(text, freq))\n",
      "    feature.append(freq_prescription_feature(text, freq))\n",
      "    feature.append(freq_creative_feature(text, freq))\n",
      "    feature.append(freq_height_feature(text, freq))\n",
      "    feature.append(freq_featured_feature(text, freq))\n",
      "    feature.append(freq_differ_feature(text, freq))\n",
      "    feature.append(freq_width_feature(text, freq))\n",
      "    feature.append(freq_other_feature(text, freq))\n",
      "    feature.append(freq_energy_feature(text, freq))\n",
      "    feature.append(freq_business_feature(text, freq))\n",
      "    feature.append(freq_message_feature(text, freq))\n",
      "    feature.append(freq_volumes_feature(text, freq))\n",
      "    feature.append(freq_revision_feature(text, freq))\n",
      "    feature.append(freq_path_feature(text, freq))\n",
      "    feature.append(freq_meter_feature(text, freq))\n",
      "    feature.append(freq_memo_feature(text, freq))\n",
      "    feature.append(freq_planning_feature(text, freq))\n",
      "    feature.append(freq_pleased_feature(text, freq))\n",
      "    feature.append(freq_record_feature(text, freq))\n",
      "    feature.append(freq_out_feature(text, freq))\n",
      "    feature.append(freq_semicolon_feature(text, freq))\n",
      "    feature.append(freq_dollar_feature(text, freq))\n",
      "    feature.append(freq_sharp_feature(text, freq))\n",
      "    feature.append(freq_exclamation_feature(text, freq))\n",
      "    feature.append(freq_para_feature(text, freq))\n",
      "    feature.append(freq_bracket_feature(text, freq))\n",
      "    feature.append(freq_and_feature(text, freq))\n",
      "\n",
      "    # --------- Add your own features here ---------\n",
      "    # Make sure type is int or float\n",
      "\n",
      "    return feature\n",
      "\n",
      "# This method generates a design matrix with a list of filenames\n",
      "# Each file is a single training example\n",
      "def generate_design_matrix(filenames):\n",
      "    design_matrix = []\n",
      "    for filename in filenames:\n",
      "        with open(filename) as f:\n",
      "            text = f.read() # Read in text from file\n",
      "            text = text.replace('\\r\\n', ' ') # Remove newline character\n",
      "            words = re.findall(r'\\w+', text)\n",
      "            word_freq = collections.defaultdict(int) # Frequency of all words\n",
      "            for word in words:\n",
      "                word_freq[word] += 1\n",
      "\n",
      "            # Create a feature vector\n",
      "            feature_vector = generate_feature_vector(text, word_freq)\n",
      "            design_matrix.append(feature_vector)\n",
      "    return design_matrix\n",
      "\n",
      "# ************** Script starts here **************\n",
      "# DO NOT MODIFY ANYTHING BELOW\n",
      "\n",
      "spam_filenames = glob.glob(BASE_DIR + SPAM_DIR + '*.txt')\n",
      "spam_design_matrix = generate_design_matrix(spam_filenames)\n",
      "ham_filenames = glob.glob(BASE_DIR + HAM_DIR + '*.txt')\n",
      "ham_design_matrix = generate_design_matrix(ham_filenames)\n",
      "# Important: the test_filenames must be in numerical order as that is the\n",
      "# order we will be evaluating your classifier\n",
      "test_filenames = [BASE_DIR + TEST_DIR + str(x) + '.txt' for x in range(NUM_TEST_EXAMPLES)]\n",
      "test_design_matrix = generate_design_matrix(test_filenames)\n",
      "\n",
      "X = spam_design_matrix + ham_design_matrix\n",
      "Y = [1]*len(spam_design_matrix) + [0]*len(ham_design_matrix)"
     ],
     "language": "python",
     "metadata": {},
     "outputs": [],
     "prompt_number": 8
    },
    {
     "cell_type": "code",
     "collapsed": false,
     "input": [
      "def problem_4(data, n_samples, folds, C_hyperparam):\n",
      "    print \"Problem 4: Spam Classification Cross Validation\"\n",
      "    np.random.shuffle(data)\n",
      "    scaler = preprocessing.StandardScaler()\n",
      "    X = data[:n_samples, 1:]\n",
      "    X = scaler.fit(X).transform(X)\n",
      "    y = data[:n_samples, 0 ]\n",
      "    fold_size = len(y)/folds\n",
      "    \n",
      "    for c in C_hyperparam:\n",
      "        print \"{:<6}{:<6}{:<8}{:<6}\".format('C', 'Fold', 'Error', 'Time')\n",
      "        kfold_scores = []\n",
      "        for i, x in enumerate(range(0, n_samples, fold_size)):\n",
      "            start_time = time.time()\n",
      "            all_idx  = set(range(0, n_samples))\n",
      "            test_idx = set(range(x, x + fold_size))\n",
      "            train_idx = sorted(list(all_idx - test_idx))\n",
      "            test_idx  = sorted(list(test_idx))            \n",
      "\n",
      "            train_fold_X, train_fold_y = X[train_idx], y[train_idx]\n",
      "            test_fold_X,  test_fold_y  = X[test_idx],  y[test_idx]\n",
      "            \n",
      "            clf = LinearSVC(C=c).fit(train_fold_X, train_fold_y)\n",
      "            predicted = clf.predict(test_fold_X)\n",
      "            score = 1-accuracy_score(test_fold_y, predicted)\n",
      "            kfold_scores.append(score)\n",
      "            end_time = time.time()\n",
      "            print \"{:<6}{:<6}{:<8}{:<6}\".\\\n",
      "                format(c, i, round(np.mean(score),4), round(end_time - start_time, 2))\n",
      "\n",
      "        mean_score = round(np.mean(kfold_scores), 4)\n",
      "        mean_error = round(1 - mean_score, 4)\n",
      "        print \"Mean accuracy: {}\\nMean error:    {}\\n\".format(mean_score, mean_error)\n",
      "\n",
      "\n",
      "spam_data = np.concatenate((np.array([[y] for y in Y]), np.array(X)), axis=1)\n",
      "problem_4(spam_data, n_samples=5000, folds=10, C_hyperparam=[.01, .1, 1, 10, 100])"
     ],
     "language": "python",
     "metadata": {},
     "outputs": [
      {
       "output_type": "stream",
       "stream": "stdout",
       "text": [
        "Problem 4: Spam Classification Cross Validation\n",
        "C     Fold  Error   Time  \n",
        "0.01  0     0.208   0.15  "
       ]
      },
      {
       "output_type": "stream",
       "stream": "stdout",
       "text": [
        "\n",
        "0.01  1     0.176   0.15  "
       ]
      },
      {
       "output_type": "stream",
       "stream": "stdout",
       "text": [
        "\n",
        "0.01  2     0.188   0.14  "
       ]
      },
      {
       "output_type": "stream",
       "stream": "stdout",
       "text": [
        "\n",
        "0.01  3     0.184   0.24  "
       ]
      },
      {
       "output_type": "stream",
       "stream": "stdout",
       "text": [
        "\n",
        "0.01  4     0.166   0.22  "
       ]
      },
      {
       "output_type": "stream",
       "stream": "stdout",
       "text": [
        "\n",
        "0.01  5     0.216   0.15  "
       ]
      },
      {
       "output_type": "stream",
       "stream": "stdout",
       "text": [
        "\n",
        "0.01  6     0.22    0.14  "
       ]
      },
      {
       "output_type": "stream",
       "stream": "stdout",
       "text": [
        "\n",
        "0.01  7     0.216   0.14  "
       ]
      },
      {
       "output_type": "stream",
       "stream": "stdout",
       "text": [
        "\n",
        "0.01  8     0.204   0.15  "
       ]
      },
      {
       "output_type": "stream",
       "stream": "stdout",
       "text": [
        "\n",
        "0.01  9     0.178   0.08  "
       ]
      },
      {
       "output_type": "stream",
       "stream": "stdout",
       "text": [
        "\n",
        "Mean accuracy: 0.1956\n",
        "Mean error:    0.8044\n",
        "\n",
        "C     Fold  Error   Time  \n",
        "0.1   0     0.204   0.46  "
       ]
      },
      {
       "output_type": "stream",
       "stream": "stdout",
       "text": [
        "\n",
        "0.1   1     0.176   0.42  "
       ]
      },
      {
       "output_type": "stream",
       "stream": "stdout",
       "text": [
        "\n",
        "0.1   2     0.186   0.44  "
       ]
      },
      {
       "output_type": "stream",
       "stream": "stdout",
       "text": [
        "\n",
        "0.1   3     0.184   0.5   "
       ]
      },
      {
       "output_type": "stream",
       "stream": "stdout",
       "text": [
        "\n",
        "0.1   4     0.172   0.48  "
       ]
      },
      {
       "output_type": "stream",
       "stream": "stdout",
       "text": [
        "\n",
        "0.1   5     0.222   0.42  "
       ]
      },
      {
       "output_type": "stream",
       "stream": "stdout",
       "text": [
        "\n",
        "0.1   6     0.216   0.49  "
       ]
      },
      {
       "output_type": "stream",
       "stream": "stdout",
       "text": [
        "\n",
        "0.1   7     0.212   0.5   "
       ]
      },
      {
       "output_type": "stream",
       "stream": "stdout",
       "text": [
        "\n",
        "0.1   8     0.206   0.42  "
       ]
      },
      {
       "output_type": "stream",
       "stream": "stdout",
       "text": [
        "\n",
        "0.1   9     0.178   0.42  "
       ]
      },
      {
       "output_type": "stream",
       "stream": "stdout",
       "text": [
        "\n",
        "Mean accuracy: 0.1956\n",
        "Mean error:    0.8044\n",
        "\n",
        "C     Fold  Error   Time  \n",
        "1     0     0.204   0.43  "
       ]
      },
      {
       "output_type": "stream",
       "stream": "stdout",
       "text": [
        "\n",
        "1     1     0.172   0.44  "
       ]
      },
      {
       "output_type": "stream",
       "stream": "stdout",
       "text": [
        "\n",
        "1     2     0.186   0.56  "
       ]
      },
      {
       "output_type": "stream",
       "stream": "stdout",
       "text": [
        "\n",
        "1     3     0.182   0.57  "
       ]
      },
      {
       "output_type": "stream",
       "stream": "stdout",
       "text": [
        "\n",
        "1     4     0.17    0.49  "
       ]
      },
      {
       "output_type": "stream",
       "stream": "stdout",
       "text": [
        "\n",
        "1     5     0.222   0.45  "
       ]
      },
      {
       "output_type": "stream",
       "stream": "stdout",
       "text": [
        "\n",
        "1     6     0.216   0.41  "
       ]
      },
      {
       "output_type": "stream",
       "stream": "stdout",
       "text": [
        "\n",
        "1     7     0.206   0.47  "
       ]
      },
      {
       "output_type": "stream",
       "stream": "stdout",
       "text": [
        "\n",
        "1     8     0.21    0.49  "
       ]
      },
      {
       "output_type": "stream",
       "stream": "stdout",
       "text": [
        "\n",
        "1     9     0.178   0.49  "
       ]
      },
      {
       "output_type": "stream",
       "stream": "stdout",
       "text": [
        "\n",
        "Mean accuracy: 0.1946\n",
        "Mean error:    0.8054\n",
        "\n",
        "C     Fold  Error   Time  \n",
        "10    0     0.208   0.52  "
       ]
      },
      {
       "output_type": "stream",
       "stream": "stdout",
       "text": [
        "\n",
        "10    1     0.17    0.42  "
       ]
      },
      {
       "output_type": "stream",
       "stream": "stdout",
       "text": [
        "\n",
        "10    2     0.19    0.48  "
       ]
      },
      {
       "output_type": "stream",
       "stream": "stdout",
       "text": [
        "\n",
        "10    3     0.186   0.46  "
       ]
      },
      {
       "output_type": "stream",
       "stream": "stdout",
       "text": [
        "\n",
        "10    4     0.172   0.49  "
       ]
      },
      {
       "output_type": "stream",
       "stream": "stdout",
       "text": [
        "\n",
        "10    5     0.22    0.46  "
       ]
      },
      {
       "output_type": "stream",
       "stream": "stdout",
       "text": [
        "\n",
        "10    6     0.21    0.45  "
       ]
      },
      {
       "output_type": "stream",
       "stream": "stdout",
       "text": [
        "\n",
        "10    7     0.202   0.46  "
       ]
      },
      {
       "output_type": "stream",
       "stream": "stdout",
       "text": [
        "\n",
        "10    8     0.204   0.48  "
       ]
      },
      {
       "output_type": "stream",
       "stream": "stdout",
       "text": [
        "\n",
        "10    9     0.172   0.45  "
       ]
      },
      {
       "output_type": "stream",
       "stream": "stdout",
       "text": [
        "\n",
        "Mean accuracy: 0.1934\n",
        "Mean error:    0.8066\n",
        "\n",
        "C     Fold  Error   Time  \n",
        "100   0     0.204   0.47  "
       ]
      },
      {
       "output_type": "stream",
       "stream": "stdout",
       "text": [
        "\n",
        "100   1     0.174   0.48  "
       ]
      },
      {
       "output_type": "stream",
       "stream": "stdout",
       "text": [
        "\n",
        "100   2     0.198   0.47  "
       ]
      },
      {
       "output_type": "stream",
       "stream": "stdout",
       "text": [
        "\n",
        "100   3     0.178   0.48  "
       ]
      },
      {
       "output_type": "stream",
       "stream": "stdout",
       "text": [
        "\n",
        "100   4     0.17    0.47  "
       ]
      },
      {
       "output_type": "stream",
       "stream": "stdout",
       "text": [
        "\n",
        "100   5     0.216   0.48  "
       ]
      },
      {
       "output_type": "stream",
       "stream": "stdout",
       "text": [
        "\n",
        "100   6     0.214   0.49  "
       ]
      },
      {
       "output_type": "stream",
       "stream": "stdout",
       "text": [
        "\n",
        "100   7     0.196   0.47  "
       ]
      },
      {
       "output_type": "stream",
       "stream": "stdout",
       "text": [
        "\n",
        "100   8     0.192   0.43  "
       ]
      },
      {
       "output_type": "stream",
       "stream": "stdout",
       "text": [
        "\n",
        "100   9     0.164   0.43  "
       ]
      },
      {
       "output_type": "stream",
       "stream": "stdout",
       "text": [
        "\n",
        "Mean accuracy: 0.1906\n",
        "Mean error:    0.8094\n",
        "\n"
       ]
      }
     ],
     "prompt_number": 9
    },
    {
     "cell_type": "code",
     "collapsed": false,
     "input": [
      "def spam_kaggle_submisison(train_data, test_X, n_samples, c):\n",
      "    # combine test and training data for scaling\n",
      "    scaler = preprocessing.StandardScaler()\n",
      "    data = np.append(train_data[:, 1:], test_X, axis=0)\n",
      "    X = scaler.fit(data).transform(data)\n",
      "    \n",
      "    # re-partition scaled training and test data\n",
      "    train_X = X[:len(train_data), :]\n",
      "    test_X  = X[len(train_data):, :]\n",
      "    train_y = train_data[:, 0]\n",
      "    \n",
      "    clf = LinearSVC(C=c).fit(train_X, train_y)\n",
      "    predicted = clf.predict(test_X)\n",
      "    return predicted\n",
      "\n",
      "# spam_test_X = np.array(test_design_matrix)\n",
      "# spam_kaggle_pred = spam_kaggle_submisison(train_data=spam_data, test_X=spam_test_X, n_samples=5172, c=100)\n",
      "# spam_save_data = zip(range(1, len(spam_test_X) + 1), spam_kaggle_pred)\n",
      "# np.savetxt(\"./predictions/spam_predictions_scaled_linearSVC_c100.csv\", \n",
      "#            spam_save_data, fmt=\"%i\", delimiter=\",\", header=\"Id,Category\", comments=\"\")"
     ],
     "language": "python",
     "metadata": {},
     "outputs": [],
     "prompt_number": 10
    }
   ],
   "metadata": {}
  }
 ]
}