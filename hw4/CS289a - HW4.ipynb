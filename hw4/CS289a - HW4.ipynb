{
 "cells": [
  {
   "cell_type": "code",
   "execution_count": 1,
   "metadata": {
    "collapsed": false
   },
   "outputs": [],
   "source": [
    "import scipy.io\n",
    "import numpy as np\n",
    "import matplotlib.pyplot as plt\n",
    "import matplotlib.mlab as mlab\n",
    "from scipy.stats import multivariate_normal\n",
    "from sklearn.feature_extraction.text import TfidfTransformer\n",
    "%matplotlib inline\n",
    "\n",
    "np.random.seed(189)"
   ]
  },
  {
   "cell_type": "markdown",
   "metadata": {
    "collapsed": true
   },
   "source": [
    "# Problem 1: Centering and Ridge Regression\n",
    "\n",
    "In this problem we will return to predicting the median home value in a given Census area by extending linear regression. The data is in housing data.mat and it comes from http://lib.stat.cmu.edu/datasets/houses.zip. There are only 8 features for each data point; you can read about the features in `housing_data_source.txt`.\n",
    "\n",
    "### 1.a You are given a training set ${(x_i, y_i)}_{i=1}^n$. Let $X$ be the design matrix (i.e. the matrix whose $i^{\\text{th}}$ row is $x_i$, and let $y$ be the column vector whose $i^{\\text{th}}$ entry is $y_i$. Let $1$ be a $n \\times 1$ column vector of ones.\n",
    "\n",
    "Define $\\bar{x} = \\dfrac {1}{n} \\sum_i x_{i=1}$ and $\\bar{y} = \\dfrac{1}{n} \\sum_{i=1} y_i$. Assume that the input data has been centered, so that $\\bar{x} = 0$. \n",
    "\n",
    "Show that the optimizer of $J(w, w_0) = (y - Xw - w_0 1)^T (y - Xw - w_0 1) + \\lambda w^T w$ is given by\n",
    "\n",
    "$$\\hat{w}_0 = \\bar{y}$$\n",
    "\n",
    "$$\\hat{w} = (X^T X + \\lambda 1)^{-1} X^T y$$\n",
    "\n",
    "> **Answer:**\n",
    "\n",
    "$$\n",
    "\\begin{align}\n",
    "J(w, w_0) &= y^T y - y^T X w - y^T w_0 1 \\\\\n",
    "&- w^T X^T y + w^T X^T X w + w^T X^T w_0 1 \\\\\n",
    "&- 1^T w^T_0 y + 1^T w^T_0 X w + 1^T w^T_0 w_0 1 \\\\\n",
    "&+ \\lambda w^T w \\\\\n",
    "\\end{align}\n",
    "$$\n",
    "\n",
    "Next, take the derivative w.r.t $w_0$ and set equal to 0:\n",
    "\n",
    "$$\n",
    "\\begin{align}\n",
    "0 &= -y^T 1 - 1^T y + w^T X^T 1 + 1^T X w + 2 w_0 1^T 1 \\\\\n",
    "&= -2 y^T1 + 2 w^T X^T 1 + 2 w_0 1^T 1 \\\\\n",
    "&= -y^T1 + w^T X^T 1 + w_0 1^T 1 \\\\\n",
    "\\end{align}\n",
    "$$\n",
    "\n",
    "Since $1 = n \\times 1$ column vector, $1^T 1 = n$. In addition, $\\sum_{i=1} y_i = y^T 1$. This gives us:\n",
    "\n",
    "$$\n",
    "\\begin{align}\n",
    "0 &= - \\sum_{i=1} y_i + w^T X^T 1 + w_0 n \\\\\n",
    "\\end{align}\n",
    "$$\n",
    "\n",
    "Since we've centered our data, the sum of all the rows is 0. Thus, $X^T 1 = 0$.\n",
    "\n",
    "$$\n",
    "\\begin{align}\n",
    "0 &= - \\sum_{i=1} y_i + 0 + w_0 n \\\\\n",
    "\\sum_{i=1} y_i &= w_0 n \\\\\n",
    "\\dfrac {1}{n} \\sum_{i=1} y_i &= w_0 \\\\\n",
    "\\end{align}\n",
    "$$"
   ]
  },
  {
   "cell_type": "markdown",
   "metadata": {},
   "source": [
    "### 1.b) Using the result from part a,\n",
    "#### 1.b.i) Implement a ridge regression model with least squares. Include your code in the submission."
   ]
  },
  {
   "cell_type": "code",
   "execution_count": 2,
   "metadata": {
    "collapsed": false
   },
   "outputs": [],
   "source": [
    "house = scipy.io.loadmat('./data/housing_data.mat')\n",
    "house_train_yX = np.hstack((house['Ytrain'], house['Xtrain']))\n",
    "np.random.shuffle(house_train_yX)\n",
    "house_train_y = np.matrix(house_train_yX[:,0]).T\n",
    "house_train_X = np.matrix(house_train_yX[:,1:])\n",
    "\n",
    "# center X\n",
    "house_train_X_mu = house_train_X.mean(axis=0)\n",
    "house_train_X -= house_train_X_mu\n",
    "\n",
    "# center validation set using training set means\n",
    "house_validate_X = np.matrix(house['Xvalidate']) - house_train_X_mu\n",
    "house_validate_y = np.matrix(house['Yvalidate'])"
   ]
  },
  {
   "cell_type": "code",
   "execution_count": 3,
   "metadata": {
    "collapsed": false
   },
   "outputs": [],
   "source": [
    "def ridge_least_squares(X, y, lmda):\n",
    "    m, n = X.shape\n",
    "    X_T = X.T\n",
    "    ones = np.ones((n,1))\n",
    "    w = np.linalg.inv(X_T*X + lmda*ones)*X_T*y\n",
    "    return w\n",
    "\n",
    "def rss_calc(y, y_hat):\n",
    "    rss = np.sum(np.square(y-y_hat))\n",
    "    return rss\n",
    "\n",
    "def predict(X, w):\n",
    "    y_hat = X*w\n",
    "    return y_hat\n",
    "\n",
    "def kfold_cv(X, y, k, lmbds):\n",
    "    m, n = X.shape\n",
    "    index = np.arange(m)\n",
    "    k_fold_indices = np.array_split(index, k)\n",
    "    k_fold_results = {}\n",
    "    for l in lmbds:\n",
    "        results = []\n",
    "        for test_index in k_fold_indices:\n",
    "            # separate test set\n",
    "            test_X, test_y = X[test_index], y[test_index]\n",
    "            # separate training set\n",
    "            train_index = np.setdiff1d(index, test_index)\n",
    "            train_X, train_y = X[train_index], y[train_index]\n",
    "            # run ridge\n",
    "            w = ridge_least_squares(train_X, train_y, lmda=l)\n",
    "            y_hat = predict(test_X, w)\n",
    "            rss = rss_calc(test_y, y_hat)\n",
    "            results.append(rss)\n",
    "        k_fold_results[l] = np.mean(results)\n",
    "    return k_fold_results"
   ]
  },
  {
   "cell_type": "markdown",
   "metadata": {},
   "source": [
    "#### 1.b.ii) Use 10-fold cross validation to tune the hyperparameter $\\lambda$. Using the tuned value of $\\lambda$, test your trained model on the validation set. What is the residual sum of squares (RSS) on the validation set? How does this compare to the result from HW3?\n",
    "\n",
    "\n",
    "> **Answer:**\n",
    "\n",
    "> My new RSS for the validation set is `5.547e+13` vs my HW3 RSS of `5.795e+12`. This Ridge RSS was greater than the old RSS."
   ]
  },
  {
   "cell_type": "code",
   "execution_count": 4,
   "metadata": {
    "collapsed": false
   },
   "outputs": [
    {
     "name": "stdout",
     "output_type": "stream",
     "text": [
      "Lamdba: 100\n",
      "RSS: 5.54746318916e+13\n"
     ]
    }
   ],
   "source": [
    "lmda_results = kfold_cv(\n",
    "    X=house_train_X,\n",
    "    y=house_train_y,\n",
    "    k=10, \n",
    "    lmbds=[1000, 100, 10, 1, 10e-2, 10e-3, 10e-4, 10e-5, 10e-6, 10e-7]\n",
    ")\n",
    "\n",
    "lmda_min = min(lmda_results, key=lmda_results.get)\n",
    "print(\"Lamdba:\", lmda_min)\n",
    "\n",
    "house_w = ridge_least_squares(house_train_X, house_train_y, lmda=lmda_min)\n",
    "house_validate_y_hat= predict(house_validate_X, house_w)\n",
    "rss_house_validate = rss_calc(house_validate_y, house_validate_y_hat)\n",
    "print(\"RSS:\", rss_house_validate)"
   ]
  },
  {
   "cell_type": "markdown",
   "metadata": {},
   "source": [
    "#### 1.b.iii) Plot the regression coefficients, w. How do these compare to the result from HW3?\n",
    "\n",
    "**Answer:**\n",
    "\n",
    "The coefficients look very similar."
   ]
  },
  {
   "cell_type": "code",
   "execution_count": 35,
   "metadata": {
    "collapsed": false
   },
   "outputs": [
    {
     "data": {
      "image/png": "[encoded data removed]",
      "text/plain": [
       "<matplotlib.figure.Figure at 0x1094194e0>"
      ]
     },
     "metadata": {},
     "output_type": "display_data"
    }
   ],
   "source": [
    "plt.figure(figsize=(6,3))\n",
    "plt.plot(house_w)\n",
    "plt.show()"
   ]
  },
  {
   "cell_type": "markdown",
   "metadata": {},
   "source": [
    "# Problem 2: Derivation of the Bonferroni Correction\n",
    "Imagine you are playing a dice game with your friends. You roll 2 dice, and to win you must roll two sixes (anything else is a loss). You are a cheater and while your friends are not looking, you roll the dice 3 times to increase your chances.\n",
    "\n",
    "### 2.a) What is the probability of a double 6 in 1 roll?\n",
    "\n",
    ">**Answer:**\n",
    "\n",
    "$$1/36$$"
   ]
  },
  {
   "cell_type": "markdown",
   "metadata": {},
   "source": [
    "### 2.b) What is the probability of getting a double 6 at least once if you roll your dice 3 times?\n",
    "\n",
    ">**Answer:**\n",
    "\n",
    "$$1 - (35/36)^3 = 0.0810$$"
   ]
  },
  {
   "cell_type": "markdown",
   "metadata": {},
   "source": [
    "### 2.c Now, imagine you train a classifier that gets an error rate better than your competitor's error rate. You then test the significance of the results with the bootstrap method. In 1000 samples of your test set errors, 203 samples show an error rate worse than that of your competitor. What is the p-value of the test whose null hypothesis is that your performance is not different than that of your competitor (with alternative hypothesis that you are better)?\n",
    "\n",
    ">**Answer:**\n",
    "\n",
    "We need to calculate $P(x \\leq 203)$.\n",
    "\n",
    "In the binomial distribution with $n$ trials and a success probability of $p$:\n",
    "\n",
    "* $x = 203$, $n = 1000$, and $p = 0.05$\n",
    "* The mean, $\\mu$ = $np$\n",
    "* The variance is $\\sigma^{2} = \\mu(1 - p)$\n",
    "* The standard deviation (standard error) is $\\sigma = \\sqrt{\\sigma^{2}} = \\sqrt{\\mu(1-p)}$\n",
    "* Standardize the values of x using the Z-score formula: $z = \\dfrac{x - \\mu}{\\sigma} = \\dfrac{x - \\mu}{\\sqrt{\\mu(1-p)}}$\n",
    "* p-value corresponding to z score is 0.0"
   ]
  },
  {
   "cell_type": "markdown",
   "metadata": {},
   "source": [
    "### 2.d) You are not satisfied with the result and you try 5 other classification methods. One of them gets a bootstrap p-value of 0.05. Can you assert that your result is \"significantly better\" than that of your competitor with 5% chance of being wrong (in the sense that we can reject the null hypothesis with risk 0.05)?\n",
    "\n",
    "> **Answer:**\n",
    "\n",
    "No. Since we ran 5 tests, our new p-value threshold is 0.01 (=0.05/5). Thus, our p-value of 0.05 does not meet this threshold.\n",
    "\n",
    "In addition, the p-value is the probability of observing a result equal to or more extreme than what was actually observed, assuming that the null hypothesis (i.e., the results are due to chance) is true. It cannot tell you whether the results of the statistical test are better than your competitor. It is only used for deciding whether to reject the null hypothesis."
   ]
  },
  {
   "cell_type": "markdown",
   "metadata": {},
   "source": [
    "### 2.e) Derive the Bonferroni correction, m * p-value, where m is the number of models tried, for small p-values. Hint: the p-value is like the probability of your double six dice.\n",
    "\n",
    ">**Answer:**\n",
    "\n",
    "If we assume a 0.05 significance level and conduct 20 tests, the probability of getting at least on significant result that is due to chance is 64% (see below). In order to account for this chance, we must adjust our p-values. Instead of multiplying the p-value by the number of tests, I like to divid the threshold (typically 0.05) by the number of tests in order to get a new threshold in order for my tests to be statistically significant.\n",
    "\n",
    "$$\n",
    "\\begin{align}\n",
    "P(\\textrm{at least one significant result}) &= 1 - P(\\textrm{no significant result}) \\\\\n",
    "&= 1 - (0.05)^{20} \\\\\n",
    "&= 0.64\n",
    "\\end{align}\n",
    "$$"
   ]
  },
  {
   "cell_type": "markdown",
   "metadata": {},
   "source": [
    "### 2.f) We have a classification problem of normal vs. cancer patients using gene expression data. The feature space has d=50,000 features (genes). We use each gene as a very simple classifier: the feature value is used to predict Y (cancer = +1, normal = -1) with the AUC. The p-value in this case can be computed in a closed form (this is called the Wilcoxon-Mann-Whitney test). You find a gene with p-value 0.0001. Is this a significant gene (in the sense that it is predictive of the Y outcome)? How come the Bonferroni correction gives a value greater than 1?\n",
    "\n",
    "> **Answer:**\n",
    "\n",
    "If we assume a $\\alpha$ of 0.05, given that we performed 50,000 tests, our new threshold for statistical significance is 0.000001 (=0.05/50,000). A p-value 0.0001 is not statistically significant."
   ]
  },
  {
   "cell_type": "markdown",
   "metadata": {},
   "source": [
    "# Problem 3: Independence vs. Correlation\n",
    "### 3.a) Consider the random variables $X$ and $Y \\in \\mathbb{R}$ with the following conditions.\n",
    "* $X$ and $Y$ can take values $[-1,0,1]$.\n",
    "* When $X$ is $0$, $Y$ takes values $1$ and $-1$ with equal probability $(\\frac{1}{2})$. When $Y$ is $0$, $X$ takes values $1$ and $-1$ with equal probability $(\\frac{1}{2})$.\n",
    "* $X$ and $Y$ are $0$ with equal probability $(\\frac{1}{2})$.\n",
    "\n",
    "Are $X$ and $Y$ uncorrelated? Are $X$ and $Y$ independent? Prove your assertions. Hint: Graph these points onto the Cartesian Plane. What's each point's joint probability?\n",
    "\n",
    ">**Answer:**\n",
    "\n",
    "\n",
    "$P(X|Y) = P(X)$ in order for them to be independent. However, they are not independent because the possible values for one value are dependent on the other. $P(X=0|Y=1) = 0$ while $P(X=0) = \\dfrac{1}{2}$.\n",
    "\n",
    "When X is not equal 0, Y is equal to 0. $E[XY] = E[X]E[Y] = 0$ for $X$ and $Y$ to be uncorrelated. However, in our case $E[XY] = 0$. Given that one of the terms will always be not zero, $X$ and $Y$ are uncorrelated."
   ]
  },
  {
   "cell_type": "markdown",
   "metadata": {},
   "source": [
    "### 3.b) Consider three Bernoulli random variables $B_{1}, B_{2}, B_{3}$ which take values $\\{0, 1\\}$ with equal probability. Lets construct the following random variables $X, Y, Z: X = B_{1} \\oplus B_{2}, Y = B_{2} \\oplus B_{3}, Z = B_{1} \\oplus B_{3}$, where $\\oplus$ indicates the XOR operator. Are $X$, $Y$, and $Z$ pairwise independent? Mutually independent? Prove it.\n",
    "\n",
    ">**Answer:**\n",
    "\n",
    "The pairwise joint distributions do not equal the product of their respective marginal distributions, so they are not pairewise independent.\n",
    "\n",
    "$f_{X}(0) \\neq f_{Y}(0) \\neq f_{Z}(0)$,\n",
    "\n",
    "$f_{X}(1) \\neq f_{Y}(1) \\neq f_{Z}(1)$\n",
    "\n",
    "They are also not mutually independent since $f_{X, Y, Z} (x,y,z) \\neq f_{X}(x) \\; f_Y(y) \\; f_Z(z)$"
   ]
  },
  {
   "cell_type": "markdown",
   "metadata": {},
   "source": [
    "### 3.c) Why are the questions above relevant to what we are learning in class? (Hint: under what condition is a problem learnable for various models we have learned about?) Describe a dataset upon which we cannot apply the methods learned in class.\n",
    "\n",
    ">**Answer:**\n",
    "\n",
    "The dependence between one variable and another in a dataset can prevent us from using various machine learning models for prediction. The data may not have been generated through some natrual process (e.g. composing emails or handwriting digits) and instead be the result of some error through the process of data aggregation. Deterministic values may have been inserted in the data that were not part of the original data."
   ]
  },
  {
   "cell_type": "markdown",
   "metadata": {},
   "source": [
    "# Problem 4: Isocontours of Normal Distributions\n",
    "\n",
    "Let $f(\\mu, \\Sigma)$ denote the density function of a Gaussian random variable. Plot isocontours of the following functions:\n",
    "\n",
    "### 4.a) $f(\\mu, \\Sigma)$, where \n",
    "$\\mu = \\begin{bmatrix} 1 \\\\ 1 \\end{bmatrix}$ and \n",
    "$\\Sigma = \\begin{bmatrix} 2 & 0 \\\\ 0 & 1 \\end{bmatrix}$\n",
    "\n",
    "> **Answer:**"
   ]
  },
  {
   "cell_type": "code",
   "execution_count": 36,
   "metadata": {
    "collapsed": false
   },
   "outputs": [
    {
     "data": {
      "image/png": "[encoded data removed]",
      "text/plain": [
       "<matplotlib.figure.Figure at 0x109399cf8>"
      ]
     },
     "metadata": {},
     "output_type": "display_data"
    }
   ],
   "source": [
    "delta = 0.025\n",
    "x = np.arange(-5, 5, delta)\n",
    "y = np.arange(-5, 5, delta)\n",
    "X, Y = np.meshgrid(x, y)\n",
    "Z = mlab.bivariate_normal(X, Y, sigmax=1, sigmay=1, mux=2, muy=1, sigmaxy=0)\n",
    "plt.figure(figsize=(4,4))\n",
    "CS = plt.contour(X, Y, Z)\n",
    "plt.show()"
   ]
  },
  {
   "cell_type": "markdown",
   "metadata": {},
   "source": [
    "### 4.b) $f(\\mu, \\Sigma)$, where \n",
    "$\\mu = \\begin{bmatrix} -1 \\\\ 2 \\end{bmatrix}$ and \n",
    "$\\Sigma = \\begin{bmatrix} 3 & 1 \\\\ 1 & 2 \\end{bmatrix}$\n",
    "\n",
    ">**Answer:**"
   ]
  },
  {
   "cell_type": "code",
   "execution_count": 37,
   "metadata": {
    "collapsed": false
   },
   "outputs": [
    {
     "data": {
      "image/png": "[encoded data removed]",
      "text/plain": [
       "<matplotlib.figure.Figure at 0x1092c60b8>"
      ]
     },
     "metadata": {},
     "output_type": "display_data"
    }
   ],
   "source": [
    "delta = 0.025\n",
    "x = np.arange(-5, 5, delta)\n",
    "y = np.arange(-5, 5, delta)\n",
    "X, Y = np.meshgrid(x, y)\n",
    "Z = mlab.bivariate_normal(X, Y, sigmax=np.sqrt(3), sigmay=np.sqrt(2), mux=-1, muy=2, sigmaxy=1)\n",
    "plt.figure(figsize=(4,4))\n",
    "CS = plt.contour(X, Y, Z)\n",
    "plt.show()"
   ]
  },
  {
   "cell_type": "markdown",
   "metadata": {},
   "source": [
    "### 4.c) $f(\\mu_{1}, \\Sigma_{1}) - f(\\mu_{2}, \\Sigma_{2})$, where \n",
    "$\\mu_{1} = \\begin{bmatrix} 0 \\\\ 2 \\end{bmatrix}$,\n",
    "$\\mu_{2} = \\begin{bmatrix} 2 \\\\ 0 \\end{bmatrix}$, and\n",
    "$\\Sigma_{1} = \\Sigma_{2} = \\begin{bmatrix} 1 & 1 \\\\ 1 & 2 \\end{bmatrix}$\n",
    "\n",
    ">**Answer:**"
   ]
  },
  {
   "cell_type": "code",
   "execution_count": 38,
   "metadata": {
    "collapsed": false
   },
   "outputs": [
    {
     "data": {
      "image/png": "[encoded data removed]",
      "text/plain": [
       "<matplotlib.figure.Figure at 0x103266f28>"
      ]
     },
     "metadata": {},
     "output_type": "display_data"
    }
   ],
   "source": [
    "delta = 0.025\n",
    "x = np.arange(-5, 5, delta)\n",
    "y = np.arange(-5, 5, delta)\n",
    "X, Y = np.meshgrid(x, y)\n",
    "Z1 = mlab.bivariate_normal(X, Y, sigmax=1, sigmay=np.sqrt(2), mux=0, muy=2, sigmaxy=1)\n",
    "Z2 = mlab.bivariate_normal(X, Y, sigmax=1, sigmay=np.sqrt(2), mux=2, muy=0, sigmaxy=1)\n",
    "Z = 10.0 * (Z1 - Z2)\n",
    "plt.figure(figsize=(4,4))\n",
    "CS = plt.contour(X, Y, Z)\n",
    "plt.show()"
   ]
  },
  {
   "cell_type": "markdown",
   "metadata": {},
   "source": [
    "### 4.d) $f(\\mu_{1}, \\Sigma_{1}) - f(\\mu_{2}, \\Sigma_{2})$, where \n",
    "$\\mu_{1} = \\begin{bmatrix} 0 \\\\ 2 \\end{bmatrix}$,\n",
    "$\\mu_{2} = \\begin{bmatrix} 2 \\\\ 0 \\end{bmatrix}$, and\n",
    "$\\Sigma_{1} = \\begin{bmatrix} 1 & 1 \\\\ 1 & 2 \\end{bmatrix}$ and \n",
    "$\\Sigma_{2} = \\begin{bmatrix} 3 & 1 \\\\ 1 & 2 \\end{bmatrix}$\n",
    "\n",
    ">**Answer:**"
   ]
  },
  {
   "cell_type": "code",
   "execution_count": 39,
   "metadata": {
    "collapsed": false
   },
   "outputs": [
    {
     "data": {
      "image/png": "[encoded data removed]",
      "text/plain": [
       "<matplotlib.figure.Figure at 0x111eba5f8>"
      ]
     },
     "metadata": {},
     "output_type": "display_data"
    }
   ],
   "source": [
    "delta = 0.025\n",
    "x = np.arange(-5, 5, delta)\n",
    "y = np.arange(-5, 5, delta)\n",
    "X, Y = np.meshgrid(x, y)\n",
    "Z1 = mlab.bivariate_normal(X, Y, sigmax=1, sigmay=np.sqrt(2), mux=0, muy=2, sigmaxy=1)\n",
    "Z2 = mlab.bivariate_normal(X, Y, sigmax=np.sqrt(3), sigmay=np.sqrt(2), mux=2, muy=0, sigmaxy=1)\n",
    "Z = 10.0 * (Z1 - Z2)\n",
    "plt.figure(figsize=(4,4))\n",
    "CS = plt.contour(X, Y, Z)\n",
    "plt.show()"
   ]
  },
  {
   "cell_type": "markdown",
   "metadata": {},
   "source": [
    "### 4.e) $f(\\mu_{1}, \\Sigma_{1}) - f(\\mu_{2}, \\Sigma_{2})$, where \n",
    "$\\mu_{1} = \\begin{bmatrix} 1 \\\\ 1 \\end{bmatrix}$,\n",
    "$\\mu_{2} = \\begin{bmatrix} -1 \\\\ -1 \\end{bmatrix}$, and\n",
    "$\\Sigma_{1} = \\begin{bmatrix} 1 & 0 \\\\ 0 & 2 \\end{bmatrix}$ and \n",
    "$\\Sigma_{2} = \\begin{bmatrix} 2 & 1 \\\\ 1 & 2 \\end{bmatrix}$\n",
    "\n",
    ">**Answer:**"
   ]
  },
  {
   "cell_type": "code",
   "execution_count": 40,
   "metadata": {
    "collapsed": false
   },
   "outputs": [
    {
     "data": {
      "image/png": "[encoded data removed]",
      "text/plain": [
       "<matplotlib.figure.Figure at 0x115551e10>"
      ]
     },
     "metadata": {},
     "output_type": "display_data"
    }
   ],
   "source": [
    "delta = 0.025\n",
    "x = np.arange(-5, 5, delta)\n",
    "y = np.arange(-5, 5, delta)\n",
    "X, Y = np.meshgrid(x, y)\n",
    "Z1 = mlab.bivariate_normal(X, Y, sigmax=1, sigmay=np.sqrt(2), mux=1, muy=1, sigmaxy=0)\n",
    "Z2 = mlab.bivariate_normal(X, Y, sigmax=np.sqrt(2), sigmay=np.sqrt(2), mux=-1, muy=-1, sigmaxy=1)\n",
    "Z = 10.0 * (Z1 - Z2)\n",
    "plt.figure(figsize=(4,4))\n",
    "CS = plt.contour(X, Y, Z)\n",
    "plt.show()"
   ]
  },
  {
   "cell_type": "markdown",
   "metadata": {},
   "source": [
    "# Problem 5: Visualizing Eigenvectors of Gaussian Covariance Matrix\n",
    "\n",
    "We have two one dimensional random variables $X_{1} \\sim \\mathcal{N}(3, 9)$ and $X2 \\sim \\frac{1}{2}X_{1} + \\mathcal{N}(4, 4)$, where $\\mathcal{N}(\\mu, \u001b\\sigma^{2})$ is a Gaussian distribution with mean $\\mu$ and variance $\\sigma^{\u001b2}$. In software, draw $N = 100$ random samples of $X_{1}$ and of $X_{2}$.\n",
    "\n",
    "> **Answer:**"
   ]
  },
  {
   "cell_type": "markdown",
   "metadata": {},
   "source": [
    "### 5.a) Compute the mean of the sampled data."
   ]
  },
  {
   "cell_type": "code",
   "execution_count": 11,
   "metadata": {
    "collapsed": false
   },
   "outputs": [
    {
     "name": "stdout",
     "output_type": "stream",
     "text": [
      "Mean of X1 = 3.22\n",
      "Mean of X2 = 5.64\n"
     ]
    }
   ],
   "source": [
    "X1 = np.random.normal(3, np.sqrt(9), 100)\n",
    "X2 = 0.5*X1 + np.random.normal(4, np.sqrt(4), 100)\n",
    "\n",
    "mu_x1 = np.mean(X1)\n",
    "mu_x2 = np.mean(X2)\n",
    "\n",
    "print(\"Mean of X1 =\", round(mu_x1,2))\n",
    "print(\"Mean of X2 =\", round(mu_x2,2))"
   ]
  },
  {
   "cell_type": "markdown",
   "metadata": {},
   "source": [
    "### 5.b) Compute the covariance matrix of the sampled data."
   ]
  },
  {
   "cell_type": "code",
   "execution_count": 12,
   "metadata": {
    "collapsed": false
   },
   "outputs": [
    {
     "name": "stdout",
     "output_type": "stream",
     "text": [
      "[[ 8.49136016  4.49450364]\n",
      " [ 4.49450364  6.43882686]]\n"
     ]
    }
   ],
   "source": [
    "covar_matrix = np.cov(X1, X2)\n",
    "print(covar_matrix)"
   ]
  },
  {
   "cell_type": "markdown",
   "metadata": {},
   "source": [
    "### 5.c) Compute the eigenvectors and eigenvalues of this covariance matrix."
   ]
  },
  {
   "cell_type": "code",
   "execution_count": 13,
   "metadata": {
    "collapsed": false
   },
   "outputs": [
    {
     "name": "stdout",
     "output_type": "stream",
     "text": [
      "Eigenvectors\n",
      " [[ 0.78185953 -0.62345462]\n",
      " [ 0.62345462  0.78185953]]\n",
      "Eigenvalues\n",
      " [ 12.07527639   2.85491063]\n"
     ]
    }
   ],
   "source": [
    "eig_value, eig_vector = np.linalg.eig(covar_matrix)\n",
    "\n",
    "print(\"Eigenvectors\\n\", eig_vector)\n",
    "print(\"Eigenvalues\\n\",  eig_value)"
   ]
  },
  {
   "cell_type": "markdown",
   "metadata": {},
   "source": [
    "### 5.d) On a two dimensional grid with a horizontal axis for $X_{1}$ ranging from $[-15, 15]$ and a vertical axis for X2 ranging from $[-15, 15]$, plot the following:\n",
    "\n",
    "* All $N = 100$ data points\n",
    "* Arrows representing both covariance eigenvectors. The eigenvector arrows should originate from the mean and have magnitude equal to their corresponding eigenvalues."
   ]
  },
  {
   "cell_type": "code",
   "execution_count": 43,
   "metadata": {
    "collapsed": false
   },
   "outputs": [
    {
     "data": {
      "image/png": "[encoded data removed]",
      "text/plain": [
       "<matplotlib.figure.Figure at 0x109399940>"
      ]
     },
     "metadata": {},
     "output_type": "display_data"
    }
   ],
   "source": [
    "fig = plt.figure(figsize=(5, 5))\n",
    "plt.scatter(X1, X2, alpha=0.5)\n",
    "ax = plt.axes()\n",
    "ax.set_aspect('equal')\n",
    "\n",
    "# 1st eigenvector 1\n",
    "eig1_x = eig_vector[0,0] * np.sqrt(eig_value[0])  # eigenvectors scaled by sqrt of eignevalues\n",
    "eig1_y = eig_vector[1,0] * np.sqrt(eig_value[0])\n",
    "ax.arrow(mu_x1, mu_x2, eig1_x, eig1_y, width=0.01, color='red')\n",
    "ax.annotate('Eigenvector 1\\n{}, {}'.format(round(eig1_x + mu_x1, 2), \n",
    "                                           round(eig1_y + mu_x2, 2)),\n",
    "            xy=(eig1_x, eig1_y), \n",
    "            xytext=(6, 9), \n",
    "            color='red', \n",
    "            size=12)\n",
    "\n",
    "# 2nd eigenvector\n",
    "eig2_x = eig_vector[0,1] * np.sqrt(eig_value[1])\n",
    "eig2_y = eig_vector[1,1] * np.sqrt(eig_value[1])\n",
    "ax.arrow(mu_x1, mu_x2, eig2_x, eig2_y, width=0.01, color='red')\n",
    "ax.annotate('Eigenvector 2\\n{}, {}'.format(round(eig2_x + mu_x1,2), \n",
    "                                           round(eig2_y + mu_x2, 2)), \n",
    "            xy=(eig2_x, eig2_y), \n",
    "            xytext=(-2, 8), \n",
    "            color='red', \n",
    "            size=12)\n",
    "\n",
    "plt.xlim(-15, 15)\n",
    "plt.ylim(-15, 15)\n",
    "plt.xlabel('X1')\n",
    "plt.ylabel('X2')\n",
    "plt.show()"
   ]
  },
  {
   "cell_type": "markdown",
   "metadata": {},
   "source": [
    "### 5.e) By placing the eigenvectors of the covariance matrix into the columns of a matrix $U = [v_{1} \\; v_{2}]$, where $v_{1}$ is the eigenvector corresponding to the largest eigenvalue, we can use $U'$ as a rotation matrix to rotate each of our sampled points from our original $(X_{1}, X_{2})$ coordinate system to a coordinate system aligned with the eigenvectors (without the transpose, $U$ can rotate back to the original axes). Center your data points by subtracting the mean and then rotate each point by $U'$, specifcally $x_{rotated} = U'(x - \\mu)$. Plot these rotated points on a new two dimensional grid with both axes ranging from $[-15,15]$."
   ]
  },
  {
   "cell_type": "code",
   "execution_count": 42,
   "metadata": {
    "collapsed": false
   },
   "outputs": [
    {
     "data": {
      "image/png": "[encoded data removed]",
      "text/plain": [
       "<matplotlib.figure.Figure at 0x11079a860>"
      ]
     },
     "metadata": {},
     "output_type": "display_data"
    }
   ],
   "source": [
    "# Center data\n",
    "X = np.hstack((X1 - mu_x1, X2 - mu_x2))\n",
    "X.shape = (2, 100)\n",
    "\n",
    "# Define matrix U\n",
    "U = eig_vector # eigenvectors already sorted\n",
    "\n",
    "# Rotate data\n",
    "X_rotated = U.T.dot(X)\n",
    "\n",
    "# Plot rotated matrix\n",
    "fig = plt.figure(figsize=(4, 4))\n",
    "plt.scatter(X_rotated[0], X_rotated[1], alpha=0.5)\n",
    "ax = plt.axes()\n",
    "ax.set_aspect('equal')\n",
    "plt.xlim(-15, 15)\n",
    "plt.ylim(-15, 15)\n",
    "plt.xlabel('Component 1')\n",
    "plt.ylabel('Component 2')\n",
    "plt.show()"
   ]
  },
  {
   "cell_type": "markdown",
   "metadata": {},
   "source": [
    "# Problem 6: Covariance Matrixes and Decompositions\n",
    "\n",
    "As described in lecture, a covariance matrix $\\Sigma \\in \\mathbb{R}^{N, N}$ for a random variable $X \\in \\mathbb{R}^{N}$ with the following values, where $cov(X_{i}, X_{j}) = E[(X_{i} - \\mu_{i})(X_{j} - \\mu_{j})]$ is the covariance between the ith and jth elements of the random vector X:\n",
    "\n",
    "$$\n",
    "\\begin{align}\n",
    "\\Sigma = \\left[\\begin{array}{ccc}cov(X_{1}, X_{1}) & ... & cov(X_{1}, X_{n}) \\\\\n",
    "... &  & ... \\\\\n",
    "cov(X_{n}, X_{1}) & ... & cov(X_{n}, X_{n})\\end{array}\\right] \\\\\n",
    "\\end{align}\n",
    "$$\n",
    "\n",
    "\n",
    "For now, we are going to leave the formal definition of covariance matrices aside and focus instead on some transformations and properties. The motivating example we will use is the N dimensional Multivariate Gaussian Distribution defined as follows:\n",
    "\n",
    "$$f(x)=\\dfrac{1}{\\sqrt{(2\\pi)^N|\\Sigma|}} e^{-\\frac{1}{2}({x}-{\\mu})^T{\\Sigma}^{-1}({x}-{\\mu})}$$\n",
    "\n",
    "### 6.a) We usually assume that $\\Sigma^{-1}$ exists, but in many cases it will not. Describe the conditions for which $\\Sigma_X^{-1}$ corresponding to random variable X will not exist. Which linear transfer allows us to convert variable X into a new random variable X' (without loss of information), which has an invertible covariance matrix?\n",
    "\n",
    "**Answer:**\n",
    "\n",
    "In order to invert $\\Sigma$, it must be positive definite ($\\forall x \\in \\mathbb{R}^N, x^T \\Sigma x > 0$). If two random variables are dependent on each other or if the n-th random variable is the same value, we won't be able to invert our $\\Sigma$. If one of the dependent variables or the n-th variable with the same value is removed, we will be able to invert $\\Sigma$."
   ]
  },
  {
   "cell_type": "markdown",
   "metadata": {},
   "source": [
    "### 6.b) Consider a data point $x$ drawn from a zero mean Multivariate Gaussian Random Variable $X \\in \\mathbb{R}^N$ like shown above. Prove that there exists matrix $A \\in \\mathbb{R}^{N,N}$ such that $x^T \\Sigma^{-1} x = \\|Ax \\|^2_2$ for all vectors $x$. What is the matrix $A$?\n",
    "\n",
    "**Answer:**\n",
    "\n",
    "$$\n",
    "\\begin{align}\n",
    "x^T \\Sigma^{-1} x &= \\|Ax \\|^2_2 \\\\\n",
    "x^T \\Sigma^{-1} x &= (Ax)^T Ax = x^T A^T Ax \\\\\n",
    "\\Sigma^{-1} & = A^T A \\\\\n",
    "(U S^2 U^T)^{-1} &= A^T A \\\\\n",
    "(U S^{-1}) (S^{-1} U^T) &= A^T A \\\\\n",
    "S^{-1} U^{T} &= A \\\\\n",
    "\\end{align}\n",
    "$$"
   ]
  },
  {
   "cell_type": "markdown",
   "metadata": {},
   "source": [
    "### 6.c) In the context of Multivariate Gaussians from the previous problem, what is the intuitive meaning of $x^T \\Sigma^{-1} x$ when we transform it into $\\|Ax \\|^2_2$?\n",
    "\n",
    "**Asnwer:**\n",
    "\n",
    "When transformed into $\\|Ax \\|^2_2$, $x^T \\Sigma^{-1}x$ is the sqaured L2 norm of $Ax$. This is essentially a distance measure from the mean."
   ]
  },
  {
   "cell_type": "markdown",
   "metadata": {},
   "source": [
    "### 6.d) Let's constrain $\\|x\\|_2 = 1$. In other words, the L2 norm (or magnitude) of vector $x$ is 1. In this case, what is the maximum and minimum value of $\\|Ax \\|^2_2$? If we have $X_i \\perp X_j \\forall i, j$, then what is the intuitive meaning for the maximum and minimum value of  $\\|Ax \\|^2_2$? To maximize the probability of $f(x)$, which x should we choose?\n",
    "\n",
    "**Answer:**\n",
    "\n"
   ]
  },
  {
   "cell_type": "markdown",
   "metadata": {},
   "source": [
    "A 1 in the position of the largest eigenvalue and 0's everywhere else would give us the maximum value. If we place a 1 in the position of the smallest eigenvalue and 0's everywhere else, we'll get the minimum value.\n",
    "\n",
    "The intuitive meaning of the maximum value of $\\|Ax\\|_2^2$ is the lowest probability of a value belonging to a particular class. The minimum value of $\\|Ax\\|_2^2$ corresponds to the greatest probability.\n",
    "\n",
    "To maximize the probability of $f(x)$, we should choose the value of x that minimized $\\|Ax\\|^2_2$ given our $\\|x\\|_2 = 1$."
   ]
  },
  {
   "cell_type": "markdown",
   "metadata": {},
   "source": [
    "## Problem 7: Gaussian Classifiers for Digits\n",
    "\n",
    "In this problem we will build Gaussian classifiers for digits in MNIST. More specifically, we will model each digit class as a Gaussian distribution and make our decisions on the basis of posterior probabilities. This is a generative method for classifying images where we are modelling the class conditional probabilities as normal distributions. The steps mentioned below should be done for each training set in train.mat and you need to plot a curve of error rate vs no. of training examples upon evaluating on the test set in test.mat. Submit your trained labels for the kaggle.mat dataset on the Kaggle competition website. Please use do not use the datasets that we provided in the HW1.zip folder, and only use the datasets provided in the current HW3.zip folder. We have randomized the MNIST test and training sets.\n",
    "\n",
    "### 7.a) Taking raw pixel values as features, fit a Gaussian distribution to each digit class using maximum likelihood estimation. This involves finding the means and covariance matrices for each digit class. Say we have i.i.d observations $X_{1}...X_{n}$, what are the maximum likelihood estimates for the mean and covariance matrix of a Gaussian distribution? Are these estimators unbiased? (No need to prove for covariance)\n",
    "\n",
    "Tip: It is a good idea to contrast normalize images before using the raw pixel values. One way of normalization is to divide the pixel values of an image by the l2 norm of its pixel values.\n",
    "\n",
    "**Answer:**\n",
    "\n",
    "The PDF for a likelihood for a normal distribution is defined by:\n",
    "\n",
    "$$f_{\\mathbf x}(x_1,\\ldots,x_k) =\\dfrac{1}{\\sqrt{(2\\pi)^{k}|\\Sigma|}}\\exp\\left(-\\frac{1}{2}({\\mathbf x}-{\\mu})^\\mathrm{T}{\\Sigma}^{-1}({\\mathbf x}-{\\mu})\\right)$$\n",
    "\n",
    "Take log:\n",
    "\n",
    "$$\\log f(X | \\mu, \\Sigma) = -\\frac{n}{2} \\log (|\\Sigma|\\,)- \\dfrac{1}{2} \\sum^n_{i=1} (x_i - \\mu)^T \\Sigma^{-1} (x_i - \\mu)$$\n",
    "\n",
    "Take derivative with respect to $\\mu$ and set equal to 0:\n",
    "\n",
    "$$\n",
    "\\begin{align}\n",
    "\\dfrac{\\partial}{\\partial \\mu} \\log f(X|\\mu,\\Sigma) &= \\dfrac{\\partial}{\\partial \\mu} -\\dfrac{1}{2} \\sum_{i=1}^n (x_i - \\mu)\\Sigma^{-1}(x_i - \\mu) \\\\\n",
    "&= \\dfrac{\\partial}{\\partial \\mu} -\\dfrac{1}{2} \\sum_{i=1}^n x_i^T \\Sigma^{-1} x_i - x_i^T \\Sigma^{-1} \\mu - \\mu^T \\Sigma^{-1} x_i + \\mu^T \\Sigma^{-1} \\mu \\\\\n",
    "&= \\dfrac{\\partial}{\\partial \\mu} -\\dfrac{1}{2} \\sum_{i=1}^n - x_i^T \\Sigma^{-1} \\mu - \\mu^T \\Sigma^{-1} x_i + \\mu^T \\Sigma^{-1} \\mu \\\\\n",
    "&= \\dfrac{\\partial}{\\partial \\mu} -\\dfrac{1}{2} \\sum_{i=1}^n - 2(\\mu^T \\Sigma^{-1} x_i) + \\mu^T \\Sigma^{-1} \\mu \\\\\n",
    "&= \\dfrac{\\partial}{\\partial \\mu} -\\dfrac{n}{2} (\\mu^T \\Sigma^{-1} \\mu) + \\dfrac{2}{2} \\sum_{i=1}^n \\mu^T \\Sigma^{-1} x_i \\\\\n",
    "&= -\\dfrac{n}{2} (\\Sigma^{-1} + (\\Sigma^{-1})^T) \\mu + \\dfrac{\\partial}{\\partial \\mu} \\sum_{i=1}^n \\mu^T \\Sigma^{-1} x_i \\\\\n",
    "&= -n \\Sigma^{-1} \\mu + \\Sigma^{-1} \\sum_{i=1}^n x_i\\\\\n",
    "\\hat\\mu &= \\dfrac{1}{n} \\sum^n_{i=1} x_i \\\\\n",
    "\\end{align}\n",
    "$$\n",
    "\n",
    "This is the maximum of the function. The MLE for the mean is unbiased because its expectation value is equal to the parameter $\\mu$:\n",
    "\n",
    "$$E \\left[ \\hat\\mu \\right] = \\mu$$\n",
    "\n",
    "The MLE of the covariance matrix is: \n",
    "\n",
    "$$\n",
    "\\begin{align}\n",
    "\\dfrac{\\partial}{\\partial \\Sigma} \\log f(X | \\mu, \\Sigma) &= -\\frac{1}{2} \\left( \\frac{ \\partial \\log(|{\\Sigma}|)}{\\partial{\\Sigma}} + \\sum_{i=1}^n \\frac{\\partial \\left( x_i - {\\mu}\\right)^T {\\Sigma}^{-1} \\left( x_i - {\\mu}\\right) }{\\partial {\\Sigma}} \\right)\\\\\n",
    "&= -\\frac{1}{2} \\left( {\\Sigma}^{-1} + \\sum_{i=1}^n \\left(x_i - {\\mu} \\right) \\left(x_i - {\\mu} \\right)^T \\right) \\\\\n",
    "\\hat\\Sigma &= \\dfrac{1}{n}\\sum_{i=1}^n (x_i - \\mu)(x_i - \\mu)^T\n",
    "\\end{align}\n",
    "$$\n",
    "\n",
    "The MLE for the covariance is biased, given\n",
    "\n",
    "$$E \\left[ \\hat\\Sigma \\right] = \\dfrac{n - 1}{n} \\Sigma$$"
   ]
  },
  {
   "cell_type": "markdown",
   "metadata": {},
   "source": [
    "### 7.b) How would you model the prior distribution for each class? Compute prior probabilities for all classes.\n",
    "\n",
    "**Answer:**\n",
    "\n",
    "You can calculate the priors for each class by calculating their frequencies in the data."
   ]
  },
  {
   "cell_type": "code",
   "execution_count": 16,
   "metadata": {
    "collapsed": false
   },
   "outputs": [
    {
     "data": {
      "text/plain": [
       "[(0, 0.097680000000000003),\n",
       " (1, 0.11394),\n",
       " (2, 0.099440000000000001),\n",
       " (3, 0.10181999999999999),\n",
       " (4, 0.097739999999999994),\n",
       " (5, 0.090440000000000006),\n",
       " (6, 0.09844),\n",
       " (7, 0.10366),\n",
       " (8, 0.0969),\n",
       " (9, 0.099940000000000001)]"
      ]
     },
     "execution_count": 16,
     "metadata": {},
     "output_type": "execute_result"
    }
   ],
   "source": [
    "digit = scipy.io.loadmat('./data/train.mat')\n",
    "digit_y = digit['train_labels']\n",
    "digit_n = digit_y.shape[0]\n",
    "digit_X = digit['train_images'].T.reshape(digit_n, 28*28)\n",
    "\n",
    "digit_yX = np.hstack((digit_y, digit_X))\n",
    "np.random.shuffle(digit_yX)\n",
    "\n",
    "digit_test_y, digit_test_X = digit_yX[:10000,0], digit_yX[:10000,1:]\n",
    "digit_train_y, digit_train_X = digit_yX[10000:,0], digit_yX[10000:,1:]\n",
    "\n",
    "priors = np.bincount(digit_train_y)\n",
    "list(zip(range(10), priors/digit_train_y.shape[0]))"
   ]
  },
  {
   "cell_type": "markdown",
   "metadata": {},
   "source": [
    "### 7.c) Visualize the covariance matrix for a particular class. Do you see any kind of structure in the matrix? What does this symbolize?\n",
    "\n",
    "**Answer:**\n",
    "\n",
    "The covariance matrix has a diagonal structure."
   ]
  },
  {
   "cell_type": "code",
   "execution_count": 44,
   "metadata": {
    "collapsed": false
   },
   "outputs": [
    {
     "data": {
      "image/png": "[encoded data removed]",
      "text/plain": [
       "<matplotlib.figure.Figure at 0x1154dcc18>"
      ]
     },
     "metadata": {},
     "output_type": "display_data"
    }
   ],
   "source": [
    "def plot_covar_matrix(X, y, digit):\n",
    "    X = X[y == digit].T\n",
    "    cov_mat = np.cov(X)\n",
    "    plt.figure(figsize=(4, 4))\n",
    "    plt.imshow(cov_mat, interpolation='none')\n",
    "    plt.title('Covariance Matrix For Digit: {}'.format(digit), fontsize=12)\n",
    "    plt.show()\n",
    "\n",
    "plot_covar_matrix(digit_train_X, digit_train_y, 0)"
   ]
  },
  {
   "cell_type": "markdown",
   "metadata": {},
   "source": [
    "# 7.d) We will now classify digits in the test set on the basis of posterior probabilities using two different approaches:\n",
    "\n",
    "#### 7.d.i) Define $\\Sigma_{overall}$ to be the average of the covariance matrices of all the classes. We will use this matrix as an estimate of the covariance of all the classes. This amounts to modelling class conditionals as Gaussians $(\\sim \\mathcal{N}(\\mu_{i}, \\Sigma_{overall}))$ with different means and the same covariance matrix. Using this form of class conditional probabilities, classify the images in the test set into one of the 10 classes assuming $0-1$ loss and compute the error rate and plot it over the following number of randomly chosen training data points $[100, 200, 500, 1000, 2000, 5000, 10000, 30000, 50000]$. Expect some variance in your error rate for low training data scenarios. What is the form of the decision boundary in this case? Why?\n",
    "\n",
    "**Answer:**\n",
    "\n",
    "The decision boundary is linear since each digit class draws from a distribution with the same covariance matrix."
   ]
  },
  {
   "cell_type": "code",
   "execution_count": 18,
   "metadata": {
    "collapsed": false,
    "scrolled": true
   },
   "outputs": [],
   "source": [
    "def sigma_overall(X, y, alpha, labels):\n",
    "    X_mu_all = []\n",
    "    for i in labels:\n",
    "        X_i = X[y == i]\n",
    "        X_mu_all.append(np.mean(X_i, axis=0))\n",
    "    X_covar_all = np.cov(X.T)\n",
    "    np.fill_diagonal(X_covar_all, X_covar_all.diagonal() + alpha)\n",
    "    return np.array(X_mu_all), X_covar_all\n",
    "\n",
    "\n",
    "def score_overall(X, mu, cov, labels):\n",
    "    pred_list = []\n",
    "    for i in labels:\n",
    "        multivariate_fx = multivariate_normal(mean=mu[i], cov=cov)\n",
    "        logpdf = multivariate_fx.logpdf(X)\n",
    "        pred_list.append(logpdf)\n",
    "    y_hat = np.argmax(np.array(pred_list), axis=0)\n",
    "    return y_hat\n",
    "\n",
    "\n",
    "def train_gaussian_overall(train_X, train_y, test_X, test_y, sample_sizes, alpha, labels):\n",
    "    error_rates = []\n",
    "    for s in sample_sizes:\n",
    "        mu_all, covar_all = sigma_overall(train_X[:s,:], train_y[:s], alpha, labels)\n",
    "        y_hat = score_overall(test_X, mu_all, covar_all, labels)\n",
    "        correct = np.sum(test_y == y_hat)\n",
    "        n = test_y.shape[0]\n",
    "        error_rate = 1 - (correct/n)\n",
    "        error_rates.append((s, error_rate))\n",
    "    return error_rates"
   ]
  },
  {
   "cell_type": "code",
   "execution_count": 19,
   "metadata": {
    "collapsed": false
   },
   "outputs": [
    {
     "name": "stdout",
     "output_type": "stream",
     "text": [
      "100    0.501  \n",
      "200    0.486  \n",
      "500    0.418  \n",
      "1000   0.335  \n",
      "2000   0.264  \n",
      "5000   0.221  \n",
      "10000  0.202  \n",
      "30000  0.191  \n",
      "50000  0.188  \n"
     ]
    }
   ],
   "source": [
    "sample_sizes = [100, 200, 500, 1000, 2000, 5000, 10000, 30000, 50000]\n",
    "\n",
    "overall_error = train_gaussian_overall(digit_train_X/255,\n",
    "                                       digit_train_y, \n",
    "                                       digit_test_X/255,\n",
    "                                       digit_test_y, \n",
    "                                       sample_sizes,\n",
    "                                       alpha=0.001,\n",
    "                                       labels=np.arange(10))\n",
    "\n",
    "for x in overall_error:\n",
    "    print(\"{:<7}{:<7}\".format(x[0], round(x[1],3)))"
   ]
  },
  {
   "cell_type": "markdown",
   "metadata": {},
   "source": [
    "#### 7.d.ii) We can also model class conditionals as $\\mathcal{N}(\\mu_{i}, \\Sigma_{i})$, where $\\Sigma_{i}$ is the estimated covariance matrix for the $i^{th}$ class. Classify images in the test set using this form of the conditional probability (assuming $0-1$ loss) and compute the error rate and plot it over the following number of randomly chosen training data points $[100, 200, 500, 1000, 2000, 5000, 10000, 30000, 50000]$. What is the form of the decision boundary in this case?\n",
    "\n",
    "**Answer:**\n",
    "\n",
    "The decision boundary form is quadratic. This is because each class is from a distribution with a different covariance matrix; the shape of the gaussian is different for each class."
   ]
  },
  {
   "cell_type": "code",
   "execution_count": 20,
   "metadata": {
    "collapsed": false
   },
   "outputs": [],
   "source": [
    "def sigma_indiv(X, y, alpha, labels):\n",
    "    mu_indiv = []\n",
    "    covar_indiv = []\n",
    "    for i in labels:\n",
    "        X_i = X[y == i]\n",
    "        mu_indiv.append(np.mean(X_i, axis=0))\n",
    "        covar = np.cov(X_i.T)\n",
    "        np.fill_diagonal(covar, covar.diagonal() + alpha)\n",
    "        covar_indiv.append(covar)\n",
    "    return np.array(mu_indiv), np.array(covar_indiv)\n",
    "\n",
    "\n",
    "def score_indiv(X, mu_indiv, covar_indiv, labels):\n",
    "    pred_list = []\n",
    "    for i in labels:\n",
    "        multivariate_fx = multivariate_normal(mean=mu_indiv[i], cov=covar_indiv[i])\n",
    "        logpdf = multivariate_fx.logpdf(X)\n",
    "        pred_list.append(logpdf)\n",
    "    y_hat = np.argmax(np.array(pred_list), axis=0)\n",
    "    return y_hat\n",
    "\n",
    "    \n",
    "def train_gaussian_indiv(train_X, train_y, test_X, test_y, sample_sizes, alpha, labels):\n",
    "    error_rates = []\n",
    "    for s in sample_sizes:\n",
    "        mu_indiv, covar_indiv = sigma_indiv(train_X[:s], train_y[:s], alpha, labels)\n",
    "        y_hat = score_indiv(test_X, mu_indiv, covar_indiv, labels)\n",
    "        correct = np.sum(test_y == y_hat)\n",
    "        n = test_y.shape[0]\n",
    "        error_rate = 1 - (correct/n)\n",
    "        error_rates.append((s, error_rate))\n",
    "    return error_rates"
   ]
  },
  {
   "cell_type": "code",
   "execution_count": 21,
   "metadata": {
    "collapsed": false
   },
   "outputs": [
    {
     "name": "stdout",
     "output_type": "stream",
     "text": [
      "100    0.359  \n",
      "200    0.25   \n",
      "500    0.148  \n",
      "1000   0.154  \n",
      "2000   0.126  \n",
      "5000   0.127  \n",
      "10000  0.121  \n",
      "30000  0.123  \n",
      "50000  0.12   \n"
     ]
    }
   ],
   "source": [
    "indiv_error = train_gaussian_indiv(digit_train_X/255,\n",
    "                                   digit_train_y, \n",
    "                                   digit_test_X/255,\n",
    "                                   digit_test_y, \n",
    "                                   sample_sizes,\n",
    "                                   alpha=0.001,\n",
    "                                   labels=np.arange(10))\n",
    "\n",
    "for x in indiv_error:\n",
    "    print(\"{:<7}{:<7}\".format(x[0], round(x[1],3)))"
   ]
  },
  {
   "cell_type": "markdown",
   "metadata": {},
   "source": [
    "#### 7.d.iii) Compare your results in parts (i) and (ii). What do you think is the source of difference in the performance?\n",
    "\n",
    "**Answer:**\n",
    "\n",
    "$\\Sigma_{i}$ far out performed $\\Sigma_{overall}$ across all training sample sizes. Class-specific covariance matrices lead to better performance than an overall covariance matrix because it is more representative of the underlying data for each class."
   ]
  },
  {
   "cell_type": "code",
   "execution_count": 47,
   "metadata": {
    "collapsed": false
   },
   "outputs": [
    {
     "data": {
      "image/png": "[encoded data removed]",
      "text/plain": [
       "<matplotlib.figure.Figure at 0x1092609b0>"
      ]
     },
     "metadata": {},
     "output_type": "display_data"
    }
   ],
   "source": [
    "_, overall_err = zip(*overall_error)\n",
    "_, indiv_err   = zip(*indiv_error)\n",
    "\n",
    "plt.figure(figsize=(6, 3))\n",
    "plt.plot(sample_sizes, overall_err, label='$\\Sigma_{overall}$')\n",
    "plt.plot(sample_sizes, indiv_err,   label='$\\Sigma_{i}$')\n",
    "plt.ylim(0,0.6)\n",
    "plt.ylabel('Error rate')\n",
    "plt.xlabel('Training sample size')\n",
    "plt.title('Training sample size vs. Error rate')\n",
    "plt.legend(loc=1, frameon=False)\n",
    "plt.show()"
   ]
  },
  {
   "cell_type": "markdown",
   "metadata": {},
   "source": [
    "#### 7.d.iv) Train your best classifier using train.mat and classify the images in kaggle.mat. Submit your labels to the online Kaggle competition and record your optimum prediction rate. If you used an additional featurizer, please describe your implementation. Please only use any extra \"image featurizer\" code on this portion of the assignment.\n",
    "\n",
    "Note: In your submission, you need to include learning curves (error-rate vs no. of training examples) and actual error-rate values for the above two cases and short explanations for the all the questions. Also, the covariance matrices you compute using MLE might be singular (and thus non-invertible). In order to make them non-singular and positive definite, you can add a small weight to their diagonals by setting $\\Sigma_{i} = \\Sigma_{i} + \\alpha I$, where $\\alpha$ is the weight you want to add to the diagonals. You may want to use k-fold cross validation to see what the optimum \"small weight\" is.\n",
    "\n",
    "**Answer:**\n",
    "\n",
    "I achieved a 12.38% error rate on Kaggle. For normalization, I divided the pixel values by 255 and added an $\\alpha$ of $.001$ to my diagonals. No additional featurizer was used in my Kaggle submission. My training and test set performance vs training data size is plotted above."
   ]
  },
  {
   "cell_type": "code",
   "execution_count": 23,
   "metadata": {
    "collapsed": true
   },
   "outputs": [],
   "source": [
    "digit_kaggle = scipy.io.loadmat('./data/test.mat')\n",
    "digit_kaggle_test_X = digit_kaggle['test_images']\n",
    "\n",
    "def kaggle_gaussian_indiv(train_X, train_y, test_X, sample_size, alpha, labels):\n",
    "    mu_indiv, covar_indiv = sigma_indiv(train_X[:sample_size], train_y[:sample_size], alpha, labels)\n",
    "    y_hat = score_indiv(test_X, mu_indiv, covar_indiv, labels)\n",
    "    return y_hat"
   ]
  },
  {
   "cell_type": "code",
   "execution_count": 24,
   "metadata": {
    "collapsed": false
   },
   "outputs": [],
   "source": [
    "digit_kaggle_pred = kaggle_gaussian_indiv(digit_X/255, \n",
    "                                          digit_y.reshape(digit_n), \n",
    "                                          digit_kaggle_test_X/255, \n",
    "                                          sample_size=60000, \n",
    "                                          alpha=0.001, \n",
    "                                          labels=np.arange(10))\n",
    "\n",
    "# For submitting to Kaggle\n",
    "# digit_kaggle_submit = np.vstack((np.arange(1,len(digit_kaggle_pred)+1), digit_kaggle_pred)).T\n",
    "# np.savetxt(fname=\"./digit_prediction.csv\", X=digit_kaggle_submit, fmt='%d', delimiter=',', header='Id,Category', comments='')"
   ]
  },
  {
   "cell_type": "markdown",
   "metadata": {},
   "source": [
    "#### 7.e) Now that you have developed Gaussian classification for digits, lets apply this to spam. Use the training and testing data located in spam_dataset.mat to generate a set of test labels that you will submit to the online Kaggle competition and record your optimum prediction rate. If you used an additional featurizer, please describe your implementation.\n",
    "\n",
    "Optional: If you use the default feature set, you may obtain relatively low classification rates. The TA's suggest using a bag of words model. You may download 3rd party packages if you wish. Also, normalizing your vectors like before may help.\n",
    "\n",
    "**Answer:**\n",
    "\n",
    "I used TF-IDF for feature engineering and used an $\\alpha$ of 0.001. I was able to acheive a 25.1% error rate on Kaggle."
   ]
  },
  {
   "cell_type": "code",
   "execution_count": 25,
   "metadata": {
    "collapsed": false
   },
   "outputs": [],
   "source": [
    "spam_kaggle = scipy.io.loadmat('./data/spam_data.mat')\n",
    "spam_train_X = spam_kaggle['training_data']\n",
    "spam_train_y = spam_kaggle['training_labels'][0]\n",
    "spam_test_X  = spam_kaggle['test_data']\n",
    "\n",
    "# Feature engineering\n",
    "tf = TfidfTransformer()\n",
    "spam_tfidf_train_X = tf.fit_transform(spam_train_X, spam_train_y).toarray()\n",
    "spam_tfidf_test_X  = tf.transform(spam_test_X).toarray()\n",
    "\n",
    "def sigma_spam_indiv(X, y, alpha, labels):\n",
    "    X_covar = {}\n",
    "    X_mu = {}\n",
    "    for i in labels:\n",
    "        X_i = X[y == i]\n",
    "        X_mu[i] = np.mean(X_i, axis=0)\n",
    "        X_cov = np.cov(X_i.T)\n",
    "        np.fill_diagonal(X_cov, X_cov.diagonal() + alpha)\n",
    "        X_covar[i] = X_cov\n",
    "    return X_mu, X_covar\n",
    "\n",
    "\n",
    "def score_spam_indiv(X, mu_dict, cov_dict, labels):\n",
    "    pred = {}\n",
    "    for i in labels:\n",
    "        multivariate_fx = multivariate_normal(mean=mu_dict[i], cov=cov_dict[i])\n",
    "        pred[i] = multivariate_fx.logpdf(X)\n",
    "    return np.where(pred[0] > pred[1], 0, 1)\n",
    "\n",
    "\n",
    "def train_spam_indiv(train_X, train_y, test_X, alpha, labels):\n",
    "    list_error = []\n",
    "    mu_matrix, cov_matrix = sigma_spam_indiv(train_X, train_y, alpha, labels)\n",
    "    pred_labels = score_spam_indiv(test_X, mu_matrix, cov_matrix, labels)\n",
    "    return pred_labels"
   ]
  },
  {
   "cell_type": "code",
   "execution_count": 26,
   "metadata": {
    "collapsed": false
   },
   "outputs": [],
   "source": [
    "spam_kaggle_pred = train_spam_indiv(spam_tfidf_train_X, spam_train_y, \n",
    "                                    spam_tfidf_test_X, alpha=0.001,\n",
    "                                    labels=[0,1])\n",
    "\n",
    "# For submitting to Kaggle\n",
    "# spam_kaggle_submit = np.vstack((np.arange(1,len(spam_kaggle_pred)+1), spam_kaggle_pred)).T\n",
    "# np.savetxt(fname=\"./spam_tfidf_prediction.csv\", X=spam_kaggle_submit, fmt='%d', delimiter=',', header='Id,Category', comments='')"
   ]
  }
 ],
 "metadata": {
  "kernelspec": {
   "display_name": "Python 3",
   "language": "python",
   "name": "python3"
  },
  "language_info": {
   "codemirror_mode": {
    "name": "ipython",
    "version": 3
   },
   "file_extension": ".py",
   "mimetype": "text/x-python",
   "name": "python",
   "nbconvert_exporter": "python",
   "pygments_lexer": "ipython3",
   "version": "3.4.2"
  }
 },
 "nbformat": 4,
 "nbformat_minor": 0
}
