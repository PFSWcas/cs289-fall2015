{
 "cells": [
  {
   "cell_type": "markdown",
   "metadata": {},
   "source": [
    "# Problem 1: Linear Regression\n",
    "\n",
    "In this problem we will try to predict the median home value in a given Census area by using linear regression. The data is in `housing_data.mat`, and it comes from http://lib.stat.cmu.edu/datasets/ (`houses.zip`). There are only 8 features for each data point; you can read about the features in `housing_data_source.txt`.\n",
    "\n",
    "1.) Implement a linear regression model with least squares. Include your code in the submission. You should add a constant term to the training data (e.g. add another dimension to each data point, with the value of 1). This is same as adding the bias term to linear regression (see discussion 4 question 1)."
   ]
  },
  {
   "cell_type": "code",
   "execution_count": 357,
   "metadata": {
    "collapsed": false
   },
   "outputs": [],
   "source": [
    "import scipy.io\n",
    "import numpy as np\n",
    "import matplotlib.pyplot as plt\n",
    "%matplotlib inline\n",
    "\n",
    "housing  = scipy.io.loadmat('data/housing_data.mat')\n",
    "h_Xtrain = np.asmatrix(housing['Xtrain'])\n",
    "h_Ytrain = np.asmatrix(housing['Ytrain'])\n",
    "h_Xtest  = np.asmatrix(housing['Xvalidate'])\n",
    "h_Ytest  = np.asmatrix(housing['Yvalidate'])\n",
    "\n",
    "def add_ones(X):\n",
    "    m = X.shape[0]\n",
    "    ones = np.ones((m, 1))\n",
    "    X1 = np.hstack((ones, X))\n",
    "    return X1\n",
    "\n",
    "def least_squares(X, y):\n",
    "    X1 = add_ones(X)\n",
    "    X1_T = X1.T\n",
    "    w = np.linalg.inv(X1_T*X1)*X1_T*y\n",
    "    return w\n",
    "\n",
    "def rss_calc(y, y_hat):\n",
    "    rss = np.sum(np.square(y-y_hat))\n",
    "    return rss\n",
    "\n",
    "def predict(X, w):\n",
    "    X1 = add_ones(X)\n",
    "    y_hat = X1*w\n",
    "    return y_hat\n",
    "\n",
    "w = least_squares(h_Xtrain, h_Ytrain)"
   ]
  },
  {
   "cell_type": "markdown",
   "metadata": {},
   "source": [
    "### 2.) Test your trained model on the validation set. What is the residual sum of squares (RSS) on the validation set? What is the range of predicted values? Do they make sense?"
   ]
  },
  {
   "cell_type": "markdown",
   "metadata": {},
   "source": [
    "**Answer:** It seems strange for a house to have a negative value."
   ]
  },
  {
   "cell_type": "code",
   "execution_count": 358,
   "metadata": {
    "collapsed": false
   },
   "outputs": [
    {
     "name": "stdout",
     "output_type": "stream",
     "text": [
      "RSS: 5794953797672.5\n",
      "Min: -56562.8\n",
      "Max: 710798.8\n"
     ]
    }
   ],
   "source": [
    "h_Ytest_hat = predict(h_Xtest, w)\n",
    "print(\"RSS: {0:.1f}\".format(rss_calc(h_Ytest, h_Ytest_hat)))\n",
    "print(\"Min: {0:.1f}\".format(np.min(h_Ytest_hat)))\n",
    "print(\"Max: {0:.1f}\".format(np.max(h_Ytest_hat)))"
   ]
  },
  {
   "cell_type": "markdown",
   "metadata": {},
   "source": [
    "### 3.) Plot the regression coefficient $w$ (plot the value of each coefficient against the index of the coefficient). Be sure to exclude the coefficient corresponding to the constant offset you added earlier."
   ]
  },
  {
   "cell_type": "code",
   "execution_count": 438,
   "metadata": {
    "collapsed": false
   },
   "outputs": [
    {
     "data": {
      "image/png": "[encoded data removed]",
      "text/plain": [
       "<matplotlib.figure.Figure at 0x1057ba588>"
      ]
     },
     "metadata": {},
     "output_type": "display_data"
    }
   ],
   "source": [
    "plt.figure(figsize=(10, 6))\n",
    "plt.plot(np.arange(8), w[1:])\n",
    "plt.show()"
   ]
  },
  {
   "cell_type": "markdown",
   "metadata": {},
   "source": [
    "### 4.) Plot a histogram of the residuals $(f(x) - y)$. What distribution does this resemble? \n",
    "\n",
    "NOTE: You may not use any library routine for linear regression or least squares solving. You may use any other linear algebra routines.\n",
    "\n",
    "**Answer:** The distribution lookes guassian/normal."
   ]
  },
  {
   "cell_type": "code",
   "execution_count": 437,
   "metadata": {
    "collapsed": false
   },
   "outputs": [
    {
     "data": {
      "image/png": "[encoded data removed]",
      "text/plain": [
       "<matplotlib.figure.Figure at 0x10775c0f0>"
      ]
     },
     "metadata": {},
     "output_type": "display_data"
    }
   ],
   "source": [
    "residuals = h_Ytest_hat - h_Ytest\n",
    "bins = np.linspace(np.min(residuals), np.max(residuals), num=20)\n",
    "plt.figure(figsize=(10, 6))\n",
    "plt.hist(residuals, bins, histtype='bar', rwidth=0.8)\n",
    "plt.show()"
   ]
  },
  {
   "cell_type": "markdown",
   "metadata": {},
   "source": [
    "# Problem 2: Logistic Regression\n",
    "\n",
    "Let $\\{(x^{(i)}, y^{(i)})^{n}\\}_{i=1}$ be a training set, where $x^{i} \\in \\mathbb{R}^{d}$ and $y^{(i)} \\in \\{-1, 1\\}$. Recall that the loss function for logistic regression is the cross-entropy. Therefore our risk is:\n",
    "\n",
    "$$R[\\mathbf{w}] = \\sum^{n}_{i=1} \\log(1 + e^{-z^{(i)}})$$\n",
    "\n",
    "where $$f(x) = \\mathbf{w}^{T}\\mathbf{x}, z^{(i)} = y^{(i)}f(x^{(i)})$$\n",
    "\n",
    "In this problem you will minimize the cross-entropy risk (also known as the negative log likelihood of $\\mathbf{w}$) on a small training set. We have four data points in $\\mathbb{R}^{2}$, two of class 1, and two of class -1. Here is the data (and you may want to draw this on paper to see what it looks like):\n",
    "\n",
    "$$\n",
    "X =\n",
    "\\begin{bmatrix}\n",
    "    0 & 3 \\\\\n",
    "    1 & 3 \\\\\n",
    "    0 & 1 \\\\\n",
    "    1 & 1\n",
    "\\end{bmatrix}\n",
    ", y = \n",
    "\\begin{bmatrix}\n",
    "    1 \\\\\n",
    "    1 \\\\\n",
    "    -1 \\\\\n",
    "    -1\n",
    "\\end{bmatrix}\n",
    "$$\n",
    "\n",
    "Here, $X$ is the training data matrix; each row $\\mathbf{x}^{(i)}$ of $X$ is a data point. Notice that the data cannot be separated by a boundary that goes through the origin. To account for this, you should append 1 to the $\\mathbf{x}^{(i)}$ vectors and fit a three-dimensional $\\mathbf{w}$ vector that includes an offset term.\n",
    "\n",
    "### 1.) Derive the gradient of the cross-entropy risk with respect to $\\mathbf{w}$. Show your work. Your answer should be in matrix-vector expression. Do NOT write your answer in terms of the individual components of the gradient. For notation, you may let the $diag(\\mathbf{v})$ denote the square matrix with components of vector $\\mathbf{v}$ on the diagonal. You may let $Q = diag(\\mathbf{y})X$, and you may assume $e^{M}$ is a matrix, where the $i$, $jth$ entry of $e^{M}$ is $e^{M_{ij}}$. \n",
    "\n",
    "Note: Writing these updates as a matrix operations instead of for-loops makes for cleaner code and allows you to take advantage of highly optimized linear algebra routines."
   ]
  },
  {
   "cell_type": "markdown",
   "metadata": {},
   "source": [
    "$$ \n",
    "\\begin{align}\n",
    "R[\\mathbf{w}] =& \\sum^{n}_{i=1} \\log(1 + e^{-z^{(i)}}) \\\\\n",
    "\\textrm{Using the chain rule: } \\dfrac {\\partial R}{\\partial w} =& \\dfrac {\\partial log(h)}{\\partial h} \\dfrac{1 + e^{-z}}{\\partial z} \\dfrac{y w^{T} x^{(i)}}{\\partial w} \\\\\n",
    "=& (\\dfrac {1}{1 + e^{-yw^{T}x^{(i)}}}) (-e^{-yw^{T}x^{(i)}}) (y x^{(i)^{T}}) \\\\\n",
    "=& (\\dfrac {1}{1 + e^{-Qw}}) (-e^{-Qw}) (Q^{T}) \\\\\n",
    "=& -Q^{T} \\dfrac {e^{-Qw}}{1 + e^{-Qw}} \\\\\n",
    "\\end{align}\n",
    "$$"
   ]
  },
  {
   "cell_type": "code",
   "execution_count": 439,
   "metadata": {
    "collapsed": false
   },
   "outputs": [],
   "source": [
    "y = np.array([[ 1], \n",
    "              [ 1], \n",
    "              [-1],\n",
    "              [-1]])\n",
    "\n",
    "X = np.matrix([[0, 3, 1],\n",
    "               [1, 3, 1],\n",
    "               [0, 1, 1],\n",
    "               [1, 1, 1]])\n",
    "\n",
    "diag_y = np.zeros((y.shape[0], y.shape[0]))\n",
    "np.fill_diagonal(diag_y, val=y)\n",
    "\n",
    "Q = diag_y*X"
   ]
  },
  {
   "cell_type": "code",
   "execution_count": 440,
   "metadata": {
    "collapsed": false
   },
   "outputs": [],
   "source": [
    "def gradient(Q, w):\n",
    "    z = Q*w\n",
    "    return -Q.T * (np.exp(-z)/(1 + np.exp(-z)))\n",
    "\n",
    "def logistic(z):\n",
    "    return 1/(1 + np.exp(-z))\n",
    "\n",
    "def cross_entropy(Q, w):\n",
    "    return np.sum(np.log(1+np.exp(-Q*w)))\n",
    "\n",
    "def gd(Q, w, n=1, step=1):\n",
    "    rs = []\n",
    "    ws = []\n",
    "    for i in range(n):\n",
    "        risk = cross_entropy(Q, w)\n",
    "        w_new = w - step*gradient(Q, w)\n",
    "        w = w_new\n",
    "        rs.append(risk)\n",
    "        ws.append(w)\n",
    "    return rs, ws"
   ]
  },
  {
   "cell_type": "markdown",
   "metadata": {},
   "source": [
    "### 2.) In general, to verify that the function we minimize is convex we will want to show that the Hessian is positive semi-definite. For now, just derive the Hessian of the risk. Show your work; your answer should be a (somewhat complicated) matrix-vector expression."
   ]
  },
  {
   "cell_type": "markdown",
   "metadata": {
    "collapsed": true
   },
   "source": [
    "$$\n",
    "\\begin{align}\n",
    "R[\\mathbf{w}] &= \\sum^{n}_{i=1} \\log(1 + e^{-z^{(i)}}) \\\\\n",
    "H &= \\sum (\\dfrac {\\partial (1 + e^{-z(i)})}{\\partial w})  (\\dfrac {1}{1 + e^{-z(i)}}) \\\\\n",
    "&= \\sum \\dfrac {\\partial(-z^{(i)})}{\\partial w} e^{-z(i)} (\\dfrac {1}{1 + e^{-z(i)}}) \\\\\n",
    "&= \\sum \\dfrac {1}{1 + e^{-yw^{T} x^{(i)}}} y^{(i)} x^{(i)} e^{y^{(i)} w^{T} x^{(i)}} \\\\\n",
    "&= \\sum \\dfrac {-e^{-yw^{T} x^{(i)}}}{1 + e^{-yw^{T} x^{(i)}}} y^{(i)} x^{(i)} \\\\\n",
    "&= \\dfrac {-1}{-e^{-yw^{T} x^{(i)}}+1} y^{(i)} x^{(i)} \\\\\n",
    "\\textrm{let Y = diag(y), Q = YX} \\\\\n",
    "H &= \\dfrac {-1}{e^{-Qw} + 1} Q\n",
    "\\end{align}\n",
    "$$\n",
    "\n",
    "$$$$\n",
    "$$$$"
   ]
  },
  {
   "cell_type": "markdown",
   "metadata": {},
   "source": [
    "### 3.) We will now perform gradient descent for a few iterations. Set the learning rate ($\\eta$) as 1. We are given that $  \\begin{equation}\n",
    "    \\mathbf{w}^{(0)}=\\begin{bmatrix}\n",
    "        -2 & 1 & 0\n",
    "    \\end{bmatrix}^{T}\n",
    "\\end{equation}$. $\\mathbf{w}^{(0)}$ is the value of $\\mathbf{w}$ at the $0^{th}$ iteration.\n",
    "\n",
    "### 3a.) State the value of $\\mathbf{\\mu}^{(0)} = P(Y = 1 | X = x)$. This should be an n-dimensional vector."
   ]
  },
  {
   "cell_type": "code",
   "execution_count": 502,
   "metadata": {
    "collapsed": false
   },
   "outputs": [
    {
     "name": "stdout",
     "output_type": "stream",
     "text": [
      "[[ 0.95257413]\n",
      " [ 0.73105858]\n",
      " [ 0.73105858]\n",
      " [ 0.26894142]]\n"
     ]
    }
   ],
   "source": [
    "w_0 = np.array([[-2],\n",
    "                [ 1], \n",
    "                [ 0]])\n",
    "mu_0 = logistic(X*w_0)\n",
    "print(mu_0)"
   ]
  },
  {
   "cell_type": "markdown",
   "metadata": {},
   "source": [
    "### 3b.) State the value of $\\mathbf{w}^{(1)}$ (the value of $\\mathbf{w}$ after one iteration)."
   ]
  },
  {
   "cell_type": "code",
   "execution_count": 503,
   "metadata": {
    "collapsed": false
   },
   "outputs": [
    {
     "name": "stdout",
     "output_type": "stream",
     "text": [
      "[[-2.        ]\n",
      " [ 0.94910188]\n",
      " [-0.68363271]]\n"
     ]
    }
   ],
   "source": [
    "w_1 = w_0 - gradient(Q, w_0)\n",
    "print(w_1)"
   ]
  },
  {
   "cell_type": "markdown",
   "metadata": {},
   "source": [
    "### 3c.) State the value of $\\mathbf{\\mu}^{(1)}$."
   ]
  },
  {
   "cell_type": "code",
   "execution_count": 504,
   "metadata": {
    "collapsed": false
   },
   "outputs": [
    {
     "name": "stdout",
     "output_type": "stream",
     "text": [
      "[[ 0.89693957]\n",
      " [ 0.54082713]\n",
      " [ 0.56598026]\n",
      " [ 0.15000896]]\n"
     ]
    }
   ],
   "source": [
    "mu_1 = logistic(X*w_1)\n",
    "print(mu_1)"
   ]
  },
  {
   "cell_type": "markdown",
   "metadata": {},
   "source": [
    "### 3d.) After performing a second iteration, state the value of $\\mathbf{w}^{(2)}$."
   ]
  },
  {
   "cell_type": "code",
   "execution_count": 505,
   "metadata": {
    "collapsed": false
   },
   "outputs": [
    {
     "name": "stdout",
     "output_type": "stream",
     "text": [
      "[[-1.69083609]\n",
      " [ 1.91981257]\n",
      " [-0.83738862]]\n"
     ]
    }
   ],
   "source": [
    "w_2 = w_1 - gradient(Q, w_1)\n",
    "print(w_2)"
   ]
  },
  {
   "cell_type": "markdown",
   "metadata": {},
   "source": [
    "# Problem 3: Spam classification using Logistic Regression\n",
    "\n",
    "The spam dataset given to you as part of the homework in `spam.mat` consists of 4601 email messages, from which 57 features have been extracted as follows:\n",
    "\n",
    "* 48 features giving the proportion (0 to 1) of words in a given message which match a given word on the list. The list contains words such as business, free, george, etc. (The data was collected by George Forman, so his name occurs quite a lot!)\n",
    "* 6 features giving the proportion (0 - 1) of characters in the email that match a given character on the list. The characters are `;( [ ! $ #`.\n",
    "* Feature 55: The average length of an uninterrupted sequence of capital letters\n",
    "* Feature 56: The length of the longest uninterrupted sequence of capital letters\n",
    "* Feature 57: The sum of the lengths of uninterrupted sequences of capital letters\n",
    "\n",
    "The dataset consists of a training set size 3450 and a test set of size 1151. One can imagine performing several kinds of preprocessing to this data matrix. Try each of the following separately:\n",
    "\n",
    "i. Standardize each column so they each have mean 0 and unit variance.\n",
    "\n",
    "ii. Transform the features using $x^{(i)}_{j} \\leftarrow \\log(x^{(i)}_{j} + 0.1)$.\n",
    "\n",
    "iii. Binarize the features using $x^{(i)}_{j} \\leftarrow \\mathbb{i}(x^{(i)}_{j} > 0)$. $\\mathbb{i}$ denotes an indicator variable.\n",
    "\n",
    "Note: You will need to tune the step size carefully to avoid numerical issues and to avoid a diverging training risk."
   ]
  },
  {
   "cell_type": "code",
   "execution_count": 492,
   "metadata": {
    "collapsed": false
   },
   "outputs": [],
   "source": [
    "spam = scipy.io.loadmat('data/spam.mat')\n",
    "s_Xtrain = np.matrix(spam['Xtrain'])\n",
    "s_Ytrain = np.matrix(spam['Ytrain'])\n",
    "\n",
    "# preprocess\n",
    "s_Xtrain_std = add_ones((s_Xtrain-s_Xtrain.mean(axis=0))/s_Xtrain.std(axis=0))\n",
    "s_Xtrain_log = add_ones(np.log(s_Xtrain + 0.1))\n",
    "s_Xtrain_bin = add_ones((s_Xtrain > 0).astype(int))"
   ]
  },
  {
   "cell_type": "markdown",
   "metadata": {},
   "source": [
    "### 1.) Implement logistic regression to classify the spam data. Use batch gradient descent. Plot the training risk (the cross-entropy risk of the training set) vs. the number of iterations. You should have one plot for each preprocessing method. Note: One batch gradient descent iteration amounts to scanning through the whole training data and computing the full gradient. "
   ]
  },
  {
   "cell_type": "code",
   "execution_count": 508,
   "metadata": {
    "collapsed": false
   },
   "outputs": [],
   "source": [
    "def logistic(z):\n",
    "    yhat = 1/(1 + np.exp(-z))\n",
    "    return yhat\n",
    "\n",
    "def cross_entropy(Q, w):\n",
    "    return np.sum(np.log(1+np.exp(-Q*w)))\n",
    "\n",
    "def gradient(Q, w):\n",
    "    z = Q*w\n",
    "    return -Q.T * (np.exp(-z)/(1 + np.exp(-z)))\n",
    "\n",
    "def batch_gd(X, y, iterations, eta):\n",
    "    m, n = X.shape\n",
    "    diag_y = np.zeros((m, m))\n",
    "    np.fill_diagonal(diag_y, val=y)\n",
    "    Q = diag_y*X\n",
    "    w = np.zeros((n, 1))\n",
    "    risk_list = []\n",
    "    for _ in range(iterations):\n",
    "        w -= eta*gradient(Q, w)\n",
    "        risk = cross_entropy(Q, w)\n",
    "        risk_list.append(float(risk))\n",
    "    return risk_list\n",
    "\n",
    "def plot_risk(data, labels, title, ylim=3000):\n",
    "    plt.figure(figsize=(10, 6))\n",
    "    for k, v in enumerate(data):\n",
    "        plt.plot(data[k], label=labels[k])\n",
    "    plt.legend(frameon=False)\n",
    "    plt.ylim([0, ylim])\n",
    "    plt.ylabel(\"Cross-Entropy Risk\")\n",
    "    plt.xlabel(\"Iterations\")\n",
    "    plt.title(title)\n",
    "    plt.show()"
   ]
  },
  {
   "cell_type": "code",
   "execution_count": null,
   "metadata": {
    "collapsed": false,
    "scrolled": true
   },
   "outputs": [],
   "source": [
    "gd_eta = 0.00001\n",
    "\n",
    "gd_std = batch_gd(s_Xtrain_std, s_Ytrain, 10000, eta=gd_eta)\n",
    "gd_log = batch_gd(s_Xtrain_log, s_Ytrain, 10000, eta=gd_eta)\n",
    "gd_bin = batch_gd(s_Xtrain_bin, s_Ytrain, 10000, eta=gd_eta)"
   ]
  },
  {
   "cell_type": "code",
   "execution_count": null,
   "metadata": {
    "collapsed": false
   },
   "outputs": [],
   "source": [
    "plot_risk(data=[gd_std, gd_log, gd_bin], \n",
    "          labels=[\"Standardized\", \"log$(x_{ij} + 0.1)$\", \"$\\mathbb{I}$ $(x_{ij} > 0)$\"], \n",
    "          title=(\"Logistic Regression with Gradient Descent\\n$\\eta$: {}\" \\\n",
    "                 .format(gd_eta))\n",
    "         )"
   ]
  },
  {
   "cell_type": "markdown",
   "metadata": {},
   "source": [
    "### 2.) Derive stochastic gradient descent equations for logistic regression and show your steps. Plot the training risk vs. number of iterations. You should have one plot for each preprocessing method. How are the plots different from (1)? Note: One stochastic gradient descent iteration amounts to computing the gradient using one data point."
   ]
  },
  {
   "cell_type": "markdown",
   "metadata": {},
   "source": [
    "**Answer:** The curves for gradient descent appear to have a steeper fall than stochastic gradient descent. Gradient descent also has a lower Cross Entropy risk for all three feature transformation methods.\n",
    "\n",
    "The derivation for SGD should be same as above for batch gradient descent. The only difference is that we are updating our weights by computing the gradient for one data point at a time, instead of using the entire dataset for each iteration."
   ]
  },
  {
   "cell_type": "code",
   "execution_count": 496,
   "metadata": {
    "collapsed": true
   },
   "outputs": [],
   "source": [
    "def stochastic_gradient(Q, w):\n",
    "    z = Q*w\n",
    "    return -Q.T * np.exp(-z)/(1 + np.exp(-z))\n",
    "\n",
    "def sgd(X, y, iterations, eta):\n",
    "    m, n = X.shape\n",
    "    diag_y = np.zeros((m, m))\n",
    "    np.fill_diagonal(diag_y, val=y)\n",
    "    Q = diag_y*X\n",
    "    w = np.zeros((n, 1))\n",
    "    risk_list = []\n",
    "    for _ in range(iterations):\n",
    "        i = np.random.randint(0, m)\n",
    "        w -= eta*gradient(Q[i,:], w)\n",
    "        risk = cross_entropy(Q, w)\n",
    "        risk_list.append(float(risk))\n",
    "    return risk_list"
   ]
  },
  {
   "cell_type": "code",
   "execution_count": 506,
   "metadata": {
    "collapsed": false
   },
   "outputs": [],
   "source": [
    "sgd_eta = 0.001\n",
    "\n",
    "sgd_std = sgd(s_Xtrain_std, s_Ytrain, 10000, eta=sgd_eta)\n",
    "sgd_log = sgd(s_Xtrain_log, s_Ytrain, 10000, eta=sgd_eta)\n",
    "sgd_bin = sgd(s_Xtrain_bin, s_Ytrain, 10000, eta=sgd_eta)"
   ]
  },
  {
   "cell_type": "code",
   "execution_count": 507,
   "metadata": {
    "collapsed": false
   },
   "outputs": [
    {
     "data": {
      "image/png": "[encoded data removed]",
      "text/plain": [
       "<matplotlib.figure.Figure at 0x106ea2dd8>"
      ]
     },
     "metadata": {},
     "output_type": "display_data"
    }
   ],
   "source": [
    "plot_risk(data=[sgd_std, sgd_log, sgd_bin], \n",
    "          labels=[\"Standardized\", \"log$(x_{ij} + 0.1)$\", \"$\\mathbb{I}$ $(x_{ij} > 0)$\"], \n",
    "          title=(\"Logistic Regression with SGD\\n$\\eta$: {}\" \\\n",
    "                 .format(sgd_eta))\n",
    "         )"
   ]
  },
  {
   "cell_type": "markdown",
   "metadata": {},
   "source": [
    "### 3.) Instead of a constant learning rate $(\\eta)$, repeat (2) where the learning rate decreases as $\\eta \\propto 1/t$ for the $t^{th}$ iteration. Plot the training risk vs number of iterations. Is this strategy better than having a constant $ \\eta$? You should have one plot for each preprocessing method."
   ]
  },
  {
   "cell_type": "markdown",
   "metadata": {},
   "source": [
    "**Answer:**  This increasing learning rate strategy does not appear to be better than normal stochastic descent."
   ]
  },
  {
   "cell_type": "code",
   "execution_count": 499,
   "metadata": {
    "collapsed": true
   },
   "outputs": [],
   "source": [
    "def sgd_decreasing_rate(X, y, iterations, eta):\n",
    "    m, n = X.shape\n",
    "    diag_y = np.zeros((m, m))\n",
    "    np.fill_diagonal(diag_y, val=y)\n",
    "    Q = diag_y*X\n",
    "    w = np.zeros((n, 1))\n",
    "    risk_list = []\n",
    "    for index in range(iterations):\n",
    "        i = np.random.randint(0, m)\n",
    "        w -= 1/(index+1)*eta*gradient(Q[i,:], w)\n",
    "        risk = cross_entropy(Q, w)\n",
    "        risk_list.append(float(risk))\n",
    "    return risk_list"
   ]
  },
  {
   "cell_type": "code",
   "execution_count": 500,
   "metadata": {
    "collapsed": false
   },
   "outputs": [],
   "source": [
    "sgd_decreasing_rate_eta = 1\n",
    "\n",
    "sgd_decreasing_rate_std = sgd_decreasing_rate(s_Xtrain_std, s_Ytrain, 10000, eta=sgd_decreasing_rate_eta)\n",
    "sgd_decreasing_rate_log = sgd_decreasing_rate(s_Xtrain_log, s_Ytrain, 10000, eta=sgd_decreasing_rate_eta)\n",
    "sgd_decreasing_rate_bin = sgd_decreasing_rate(s_Xtrain_bin, s_Ytrain, 10000, eta=sgd_decreasing_rate_eta)"
   ]
  },
  {
   "cell_type": "code",
   "execution_count": 501,
   "metadata": {
    "collapsed": false
   },
   "outputs": [
    {
     "data": {
      "image/png": "[encoded data removed]",
      "text/plain": [
       "<matplotlib.figure.Figure at 0x106dcfcc0>"
      ]
     },
     "metadata": {},
     "output_type": "display_data"
    }
   ],
   "source": [
    "plot_risk(data=[sgd_decreasing_rate_std, sgd_decreasing_rate_log, sgd_decreasing_rate_bin], \n",
    "          labels=[\"Standardized\", \"log$(x_{ij} + 0.1)$\", \"$\\mathbb{I}$ $(x_{ij} > 0)$\"], \n",
    "          title=(\"Logistic Regression with SGD, $N \\propto 1/t$\\n$\\eta$: {}\" \\\n",
    "                 .format(sgd_decreasing_rate_eta))\n",
    "         )"
   ]
  },
  {
   "cell_type": "markdown",
   "metadata": {},
   "source": [
    "### 4a.) Now let's use kernel logistic regression with a polynomial kernel of degree 2. Our risk is still the same as in problem 2, but our classifier is now:\n",
    "\n",
    "$$f(\\mathbf{x}) = \\sum^{n}_{i = 1} \\alpha_{i} K(\\mathbf{x}^{(i)}, \\mathbf{x}) \\textrm{ where } K(\\mathbf{x}^{(i)}, \\mathbf{x}) = (\\mathbf{x}^{T} \\mathbf{x}^{(i)} + 1)^{2}$$\n",
    "\n",
    "instead of $f(\\mathbf{x}) = \\mathbf{w}^{T}\\mathbf{x}$ as it was originally. Show that the stochastic gradient descent update for data point $\\mathbf{x}^{(i)}$ is:\n",
    "\n",
    "$$\\alpha_{i} \\leftarrow \\alpha_{i} + \\eta S(-z^{(i)})y^{(i)}$$\n",
    "\n",
    "$$\\textrm{Where } z^{(i)} = y^{(i)} f(\\mathbf{x}^{(i)})$$ \n",
    "\n",
    "$$S(-z^{(i)}) = \\dfrac{1}{1 + exp(z^{(i)})}$$\n",
    "\n",
    "Note that this measure means $\\mathbf{\\alpha} \\in \\mathbb{R}^{n}$. Also derive $\\dfrac{\\partial L}{\\partial \\alpha_{i}}$ directly from the loss function. You should get a different answer than the dual algorithm shown above. Under what condition are the two updates you derived the same?"
   ]
  },
  {
   "cell_type": "markdown",
   "metadata": {},
   "source": [
    "**Answer:**\n",
    "\n",
    "Show SGD update for $\\mathbf{x}^{(i)}$:\n",
    "\n",
    "???\n",
    "\n",
    "Derive $\\dfrac {\\partial L}{\\partial \\alpha_i}$:\n",
    "\n",
    "$$\n",
    "\\begin{align}\n",
    "\\textrm{Using chain rule: } \\dfrac{\\partial L}{\\partial \\alpha_i} =& \\dfrac{\\partial L}{\\partial z^{(i)}} \\dfrac{\\partial z^{(i)}}{\\partial f(\\mathbf{x}^{(i)})} \\dfrac{\\partial f(\\mathbf{x}^{(i)})}{\\partial \\alpha_i} \\\\\n",
    "    \\dfrac{\\partial L}{\\partial z^{(i)}} =& \\dfrac{\\partial \\textrm{log}(1 + e^{-z^{(i)}})}{\\partial z^{(i)}} = -\\dfrac{1}{1 + exp(z^{(i)})} \\\\\n",
    "    \\dfrac{\\partial z^{(i)}}{\\partial f(\\mathbf{x}^{(i)})} =& \\dfrac{\\partial y^{(i)} f(x)}{\\partial f(x)} = y^{(i)} \\\\\n",
    "    \\dfrac{\\partial f(\\mathbf{x}^{(i)})}{\\partial \\alpha_i} =& \\dfrac {\\partial \\alpha_i K(x, x')}{\\partial \\alpha_i} = K(x, x') \\\\\n",
    "    \\dfrac{\\partial L}{\\partial \\alpha_i} =& - \\dfrac{y^{(i)} K(x, x')}{1 + exp(z^{(i)})} \\\\\n",
    "\\end{align}\n",
    "$$"
   ]
  },
  {
   "cell_type": "markdown",
   "metadata": {},
   "source": [
    "### 4b.) Finally, repeat (2), using the best preprocessing method you found, using kernel logistic ridge regression. Use whichever learning rate scheme you wish. Use $\\gamma = 10^{-5}$. You  may optionally adjust the value of $\\gamma$. Generate a plot of training risk vs. number of iterations, and another plot of validation risk vs. number of iterations (use a 2/3, 1/3\n",
    "split). Use the following update equations (you do not need to derive them):\n",
    "\n",
    "$$\\alpha_{i} \\leftarrow \\alpha_{i} - \\gamma \\alpha_{i} + \\eta S(-z^{(i)})y^{(i)}$$\n",
    "\n",
    "$$\\alpha_{h} \\leftarrow \\alpha_{h} - \\gamma \\alpha_{h} \\textrm{ for } h \\neq i$$"
   ]
  },
  {
   "cell_type": "code",
   "execution_count": 462,
   "metadata": {
    "collapsed": false
   },
   "outputs": [],
   "source": [
    "def fx_poly(x_j, X, alpha):\n",
    "    k = np.square(X*x_j.T + 1)\n",
    "    return np.sum(np.multiply(alpha, k))\n",
    "    \n",
    "def ridge_gradient(z_i, y_i):\n",
    "    return (1/(1 + np.exp(z_i)))*y_i\n",
    "    \n",
    "def risk_fun(z_j):\n",
    "    return np.log(1 + np.exp(z_j))\n",
    "\n",
    "def kernel_ridge_sgd(X, y, iterations, eta, gamma, fx):\n",
    "    # number of training examples\n",
    "    size = int(X.shape[0] * 2/3)\n",
    "    data = np.hstack((y, X))\n",
    "    np.random.shuffle(data)\n",
    "    \n",
    "    X_test,  y_test  = data[size:,1:], data[size:,0]\n",
    "    X_train, y_train = data[:size,1:], data[:size,0]\n",
    "    m, n = X_train.shape\n",
    "    alpha = np.zeros((m,1))\n",
    "\n",
    "    temp_train_risk = []\n",
    "    temp_test_risk = []\n",
    "    train_risk = []\n",
    "    test_risk = []\n",
    "    for index in range(iterations):\n",
    "        j = np.random.randint(0, m)\n",
    "        h = np.ones(m, dtype=bool)\n",
    "        h[[j]] = False\n",
    "\n",
    "        x_j = X_train[j,:]\n",
    "        y_j = y_train[j]\n",
    "        z_j = y_j * fx(x_j, X_train, alpha)\n",
    "\n",
    "        risk_j = risk_fun(z_j)\n",
    "        temp_train_risk.append(risk_j)\n",
    "\n",
    "        alpha[[j]] -= gamma*alpha[[j]] + eta*ridge_gradient(z_j, y_j)\n",
    "        alpha[[h]] -= gamma*alpha[[h]]\n",
    "\n",
    "        # sum risks for every batch of 100 values\n",
    "        if index % 100 == 0:\n",
    "            train_sum = np.sum(temp_train_risk)\n",
    "            temp_train_risk = [] # reset the training risk\n",
    "            train_risk.append(train_sum)\n",
    "            \n",
    "            # get validation results\n",
    "            for v in range(X_test.shape[0]):\n",
    "                x_v = X_test[v,:]\n",
    "                y_v = y_test[v]\n",
    "                z_v = y_v * fx(x_v, X_train, alpha)\n",
    "                risk_v = risk_fun(z_v)\n",
    "                temp_test_risk.append(risk_v)\n",
    "            \n",
    "            test_sum = np.sum(temp_test_risk)\n",
    "            temp_test_risk = []\n",
    "            test_risk.append(test_sum)\n",
    "\n",
    "    return train_risk, test_risk"
   ]
  },
  {
   "cell_type": "code",
   "execution_count": 489,
   "metadata": {
    "collapsed": false,
    "scrolled": true
   },
   "outputs": [],
   "source": [
    "ridge_sgd_eta = 10e-6\n",
    "ridge_sgd_gama = 10e-5\n",
    "\n",
    "ridge_sgd_std, ridge_sgd_std_test = kernel_ridge_sgd(\n",
    "    s_Xtrain_std, \n",
    "    s_Ytrain, \n",
    "    10000, \n",
    "    eta=ridge_sgd_eta, \n",
    "    gamma=ridge_sgd_gama,\n",
    "    fx=fx_poly\n",
    ")"
   ]
  },
  {
   "cell_type": "code",
   "execution_count": 490,
   "metadata": {
    "collapsed": false
   },
   "outputs": [
    {
     "data": {
      "image/png": "[encoded data removed]",
      "text/plain": [
       "<matplotlib.figure.Figure at 0x1070d2518>"
      ]
     },
     "metadata": {},
     "output_type": "display_data"
    }
   ],
   "source": [
    "plot_risk(data=[ridge_sgd_std, ridge_sgd_std_test], \n",
    "          labels=[\"Training (2/3)\", \"Validation (1/3)\"], \n",
    "          title=(\"Polynomial Kernel Logistic Ridge Regression with SGD\\n$\\eta$: {}, $\\gamma$: {}\" \\\n",
    "                 .format(ridge_sgd_eta, ridge_sgd_gama)),\n",
    "          ylim=3000)"
   ]
  },
  {
   "cell_type": "markdown",
   "metadata": {},
   "source": [
    "Repeat the same experiment with the linear kernel $K(x^{(i)}, x) = x^{T} x^{(i)} + 1$. Does the quadratic kernel overfit the data? For each kernel, should you decrease or increase $\\gamma$ to try to improve performance?"
   ]
  },
  {
   "cell_type": "markdown",
   "metadata": {},
   "source": [
    "**Answer:** The quadratic kernel did appear to overfit the data, evidenced by the growing validation error in comparison to the training error. Using a larger $\\gamma$ (e.g. 1) gave me a flat risk (or would result in overflow errors) for both validation and training."
   ]
  },
  {
   "cell_type": "code",
   "execution_count": 470,
   "metadata": {
    "collapsed": true
   },
   "outputs": [],
   "source": [
    "def fx_linear(x_j, X, alpha):\n",
    "    k = X*x_j.T + 1\n",
    "    return np.sum(np.multiply(alpha, k))\n",
    "\n",
    "ridge_sgd_lin_eta = 10e-4\n",
    "ridge_sgd_lin_gamma = 10e-5\n",
    "\n",
    "ridge_sgd_std_lin, ridge_sgd_std_lin_test = kernel_ridge_sgd(\n",
    "    s_Xtrain_std[:1000], \n",
    "    s_Ytrain[:1000], \n",
    "    10000, \n",
    "    eta=ridge_sgd_lin_eta, \n",
    "    gamma=ridge_sgd_lin_gamma,\n",
    "    fx=fx_linear\n",
    ")"
   ]
  },
  {
   "cell_type": "code",
   "execution_count": 487,
   "metadata": {
    "collapsed": false
   },
   "outputs": [
    {
     "data": {
      "image/png": "[encoded data removed]",
      "text/plain": [
       "<matplotlib.figure.Figure at 0x106d63630>"
      ]
     },
     "metadata": {},
     "output_type": "display_data"
    }
   ],
   "source": [
    "plot_risk(data=[ridge_sgd_std_lin, ridge_sgd_std_lin_test], \n",
    "          labels=[\"Training (2/3)\", \"Validation (1/3)\"], \n",
    "          title=(\"Linear Kernel Logistic Ridge Regression with SGD\\n$\\eta$: {}, $\\gamma$: {}\" \\\n",
    "                 .format(ridge_sgd_lin_eta, ridge_sgd_lin_gamma)),\n",
    "          ylim=3000)"
   ]
  },
  {
   "cell_type": "markdown",
   "metadata": {},
   "source": [
    "# Problem 4: Real World Spam Classification\n",
    "\n",
    "Daniel recently interned as an anti-spam product manager for a large email service provider. His company uses a linear SVM to predict whether an incoming spam message is spam or ham. He notices that the number of spam messages received tends to spike massively upwards a couple minutes before and after midnight. Eager to obtain a return offer, he adds the time-stamp of the received message, stored as number of milliseconds since the previous midnight, to each feature vector for the SVM to train on, in hopes that the ML model will be able to identify the abnormal spike in spam volume at night. To his dismay, after A/B testing with his newly added feature, Daniel discovers that the linear SVM's success rate barely improves. He wants to try to use a kernel to improve his model, but unfortunately he is limited to a quadratic kernel.\n",
    "\n",
    "Why can't the linear SVM utilize the new feature well, and what can Daniel do to improve his results? This is an actual interview question Daniel received for a machine learning engineering position!\n",
    "\n",
    "Write a short explanation. This question is open ended and there can be many correct answers. It is not necessary, but feel free to do your own research as long as you cite any sources."
   ]
  },
  {
   "cell_type": "markdown",
   "metadata": {},
   "source": [
    "**Answer:** Since the timestamps are for the *previous* night, we would expect to get very small and very large values for this feature given that spam emails may be sent right before or after midnight. Since this data are non-linear, we would need a kernel that could find an optimal descision boundary. By using cross-validation to determine the best polynomial kernel, Daniel could potentially find the boundary. Another approach would be to create a new feature to determine the number of milliseconds from the *nearest* midnight period instead of from the *previous* midnight."
   ]
  }
 ],
 "metadata": {
  "kernelspec": {
   "display_name": "Python 3",
   "language": "python",
   "name": "python3"
  },
  "language_info": {
   "codemirror_mode": {
    "name": "ipython",
    "version": 3
   },
   "file_extension": ".py",
   "mimetype": "text/x-python",
   "name": "python",
   "nbconvert_exporter": "python",
   "pygments_lexer": "ipython3",
   "version": "3.4.2"
  }
 },
 "nbformat": 4,
 "nbformat_minor": 0
}
