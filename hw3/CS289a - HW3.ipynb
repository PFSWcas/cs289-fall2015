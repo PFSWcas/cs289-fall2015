{
 "cells": [
  {
   "cell_type": "markdown",
   "metadata": {},
   "source": [
    "# Problem 1: Linear Regression\n",
    "\n",
    "In this problem we will try to predict the median home value in a given Census area by using linear regression. The data is in `housing_data.mat`, and it comes from http://lib.stat.cmu.edu/datasets/ (`houses.zip`). There are only 8 features for each data point; you can read about the features in `housing_data_source.txt`.\n",
    "\n",
    "1.) Implement a linear regression model with least squares. Include your code in the submission. You should add a constant term to the training data (e.g. add another dimension to each data point, with the value of 1). This is same as adding the bias term to linear regression (see discussion 4 question 1)."
   ]
  },
  {
   "cell_type": "code",
   "execution_count": 1,
   "metadata": {
    "collapsed": false
   },
   "outputs": [],
   "source": [
    "import scipy.io\n",
    "import numpy as np\n",
    "import matplotlib.pyplot as plt\n",
    "%matplotlib inline"
   ]
  },
  {
   "cell_type": "code",
   "execution_count": 2,
   "metadata": {
    "collapsed": false
   },
   "outputs": [],
   "source": [
    "housing  = scipy.io.loadmat('data/housing_data.mat')\n",
    "h_Xtrain = np.asmatrix(housing['Xtrain'])\n",
    "h_Ytrain = np.asmatrix(housing['Ytrain'])\n",
    "h_Xtest  = np.asmatrix(housing['Xvalidate'])\n",
    "h_Ytest  = np.asmatrix(housing['Yvalidate'])"
   ]
  },
  {
   "cell_type": "code",
   "execution_count": 3,
   "metadata": {
    "collapsed": false
   },
   "outputs": [],
   "source": [
    "def add_ones(X):\n",
    "    m = X.shape[0]\n",
    "    ones = np.ones((m, 1))\n",
    "    X1 = np.hstack((ones, X))\n",
    "    return X1\n",
    "\n",
    "def least_squares(X, y):\n",
    "    X1 = add_ones(X)\n",
    "    X1_T = X1.T\n",
    "    w = np.linalg.inv(X1_T*X1)*X1_T*y\n",
    "    return w\n",
    "\n",
    "def rss_calc(y, y_hat):\n",
    "    rss = np.sum(np.square(y-y_hat))\n",
    "    return rss\n",
    "\n",
    "def predict(X, w):\n",
    "    X1 = add_ones(X)\n",
    "    y_hat = X1*w\n",
    "    return y_hat\n",
    "\n",
    "w = least_squares(h_Xtrain, h_Ytrain)"
   ]
  },
  {
   "cell_type": "markdown",
   "metadata": {},
   "source": [
    "2.) Test your trained model on the validation set. What is the residual sum of squares (RSS) on the validation set? What is the range of predicted values? Do they make sense?"
   ]
  },
  {
   "cell_type": "code",
   "execution_count": 4,
   "metadata": {
    "collapsed": false
   },
   "outputs": [
    {
     "data": {
      "text/plain": [
       "5794953797672.457"
      ]
     },
     "execution_count": 4,
     "metadata": {},
     "output_type": "execute_result"
    }
   ],
   "source": [
    "h_Ytest_hat = predict(h_Xtest, w)\n",
    "rss_calc(h_Ytest, h_Ytest_hat)"
   ]
  },
  {
   "cell_type": "markdown",
   "metadata": {},
   "source": [
    "3.) Plot the regression coefficient $w$ (plot the value of each coefficient against the index of the coefficient). Be sure to exclude the coefficient corresponding to the constant offset you added earlier."
   ]
  },
  {
   "cell_type": "code",
   "execution_count": 5,
   "metadata": {
    "collapsed": false
   },
   "outputs": [
    {
     "data": {
      "image/png": "[encoded data removed]",
      "text/plain": [
       "<matplotlib.figure.Figure at 0x107665cc0>"
      ]
     },
     "metadata": {},
     "output_type": "display_data"
    }
   ],
   "source": [
    "plt.plot(np.arange(8), w[1:])\n",
    "plt.show()"
   ]
  },
  {
   "cell_type": "markdown",
   "metadata": {},
   "source": [
    "4.) Plot a histogram of the residuals $(f(x) - y)$. What distribution does this resemble? NOTE: You may not use any library routine for linear regression or least squares solving. You may use any other linear algebra routines."
   ]
  },
  {
   "cell_type": "code",
   "execution_count": 6,
   "metadata": {
    "collapsed": false
   },
   "outputs": [
    {
     "data": {
      "image/png": "[encoded data removed]",
      "text/plain": [
       "<matplotlib.figure.Figure at 0x107695358>"
      ]
     },
     "metadata": {},
     "output_type": "display_data"
    }
   ],
   "source": [
    "residuals = h_Ytest_hat - h_Ytest\n",
    "bins = np.linspace(np.min(residuals), np.max(residuals), num=20)\n",
    "plt.hist(residuals, bins, normed=1, histtype='bar', rwidth=0.8)\n",
    "plt.show()"
   ]
  },
  {
   "cell_type": "markdown",
   "metadata": {},
   "source": [
    "#Problem 2: Logistic Regression\n",
    "\n",
    "Let $\\{(x^{(i)}, y^{(i)})^{n}\\}_{i=1}$ be a training set, where $x^{i} \\in \\mathbb{R}^{d}$ and $y^{(i)} \\in \\{-1, 1\\}$. Recall that the loss function for logistic regression is the cross-entropy. Therefore our risk is:\n",
    "\n",
    "$$R[\\mathbf{w}] = \\sum^{n}_{i=1} \\log(1 + e^{-z^{(i)}})$$\n",
    "\n",
    "where $f(x) = \\mathbf{w}^{T}\\mathbf{x}, z^{(i)} = y^{(i)}f(x^{(i)}).$\n",
    "\n",
    "In this problem you will minimize the cross-entropy risk (also known as the negative log likelihood of $\\mathbf{w}$) on a small training set. We have four data points in $\\mathbb{R}^{2}$, two of class 1, and two of class -1. Here is the data (and you may want to draw this on paper to see what it looks like):\n",
    "\n",
    "$$\n",
    "X =\n",
    "\\begin{bmatrix}\n",
    "    0 & 3 \\\\\n",
    "    1 & 3 \\\\\n",
    "    0 & 1 \\\\\n",
    "    1 & 1\n",
    "\\end{bmatrix}\n",
    ", y = \n",
    "\\begin{bmatrix}\n",
    "    1 \\\\\n",
    "    1 \\\\\n",
    "    -1 \\\\\n",
    "    -1\n",
    "\\end{bmatrix}\n",
    "$$\n",
    "\n",
    "Here, $X$ is the training data matrix; each row $\\mathbf{x}^{(i)}$ of $X$ is a data point. Notice that the data cannot be separated by a boundary that goes through the origin. To account for this, you should append 1 to the $\\mathbf{x}^{(i)}$ vectors and fit a three-dimensional $\\mathbf{w}$ vector that includes an offset term.\n",
    "\n",
    "1.) Derive the gradient of the cross-entropy risk with respect to $\\mathbf{w}$. Show your work. Your answer should be in matrix-vector expression. Do NOT write your answer in terms of the individual components of the gradient. For notation, you may let the $diag(\\mathbf{v})$ denote the square matrix with components of vector $\\mathbf{v}$ on the diagonal. You may let $Q = diag(\\mathbf{y})X$, and you may assume $e^{M}$ is a matrix, where the $i$, $jth$ entry of $e^{M}$ is $e^{M_{ij}}$. Note: Writing these updates as a matrix operations instead of for-loops makes for cleaner code and allows you to take advantage of highly optimized linear algebra routines."
   ]
  },
  {
   "cell_type": "markdown",
   "metadata": {},
   "source": [
    "2.) In general, to verify that the function we minimize is convex we will want to show that the Hessian is positive semi-definite. For now, just derive the Hessian of the risk. Show your work; your answer should be a (somewhat complicated) matrix-vector expression."
   ]
  },
  {
   "cell_type": "markdown",
   "metadata": {},
   "source": [
    "3.) We will now perform gradient descent for a few iterations. Set the learning rate ($\\eta$) as 1. We are given that $  \\begin{equation}\n",
    "    \\mathbf{w}^{(0)}=\\begin{bmatrix}\n",
    "        -2 & 1 & 0\n",
    "    \\end{bmatrix}^{T}\n",
    "\\end{equation}$. $\\mathbf{w}^{(0)}$ is the value of $\\mathbf{w}$ at the $0^{th}$ iteration.\n",
    "\n",
    "3a.) State the value of $\\mathbf{\\mu}^{(0)} = P(Y = 1 | X = x)$. This should be an n-dimensional vector."
   ]
  },
  {
   "cell_type": "markdown",
   "metadata": {},
   "source": [
    "3b.) State the value of $\\mathbf{w}^{(1)}$ (the value of $\\mathbf{w}$ after one iteration)."
   ]
  },
  {
   "cell_type": "markdown",
   "metadata": {},
   "source": [
    "3c.) State the value of $\\mathbf{\\mu}^{(1)}$."
   ]
  },
  {
   "cell_type": "markdown",
   "metadata": {},
   "source": [
    "3d.) After performing a second iteration, state the value of $\\mathbf{w}^{(2)}$."
   ]
  },
  {
   "cell_type": "markdown",
   "metadata": {},
   "source": [
    "#Problem 3: Spam classification using Logistic Regression\n",
    "\n",
    "The spam dataset given to you as part of the homework in `spam.mat` consists of 4601 email messages, from which 57 features have been extracted as follows:\n",
    "\n",
    "* 48 features giving the proportion (0 to 1) of words in a given message which match a given word on the list. The list contains words such as business, free, george, etc. (The data was collected by George Forman, so his name occurs quite a lot!)\n",
    "* 6 features giving the proportion (0 - 1) of characters in the email that match a given character on the list. The characters are `;( [ ! $ #`.\n",
    "* Feature 55: The average length of an uninterrupted sequence of capital letters\n",
    "* Feature 56: The length of the longest uninterrupted sequence of capital letters\n",
    "* Feature 57: The sum of the lengths of uninterrupted sequences of capital letters\n",
    "\n",
    "The dataset consists of a training set size 3450 and a test set of size 1151. One can imagine performing several kinds of preprocessing to this data matrix. Try each of the following separately:\n",
    "\n",
    "i. Standardize each column so they each have mean 0 and unit variance.\n",
    "\n",
    "ii. Transform the features using $x^{(i)}_{j} \\leftarrow \\log(x^{(i)}_{j} + 1)$.\n",
    "\n",
    "iii. Binarize the features using $x^{(i)}_{j} \\leftarrow \\mathbb{i}(x^{(i)}_{j} > 0)$. $\\mathbb{i}$ denotes an indicator variable.\n",
    "\n",
    "Note: You will need to tune the step size carefully to avoid numerical issues and to avoid a diverging training risk."
   ]
  },
  {
   "cell_type": "code",
   "execution_count": 7,
   "metadata": {
    "collapsed": false
   },
   "outputs": [],
   "source": [
    "spam = scipy.io.loadmat('data/spam.mat')\n",
    "s_Xtrain = np.matrix(spam['Xtrain'])\n",
    "s_Ytrain = np.matrix(spam['Ytrain'])\n",
    "s_Xtest  = np.matrix(spam['Xtest'])\n",
    "\n",
    "# preprocess\n",
    "s_Xtrain_std = add_ones((s_Xtrain - s_Xtrain.mean(axis=0))/s_Xtrain.std(axis=0))\n",
    "s_Xtrain_log = add_ones(np.log(s_Xtrain + 0.1))\n",
    "s_Xtrain_bin = add_ones((s_Xtrain > 0).astype(int))"
   ]
  },
  {
   "cell_type": "markdown",
   "metadata": {},
   "source": [
    "1.) Implement logistic regression to classify the spam data. Use batch gradient descent. Plot the training risk (the cross-entropy risk of the training set) vs. the number of iterations. You should have one plot for each preprocessing method. Note: One batch gradient descent iteration amounts to scanning through the whole training data and computing the full gradient. "
   ]
  },
  {
   "cell_type": "markdown",
   "metadata": {},
   "source": [
    "2.) Derive stochastic gradient descent equations for logistic regression and show your steps. Plot the training risk vs. number of iterations. You should have one plot for each preprocessing method. How are the plots different from (1)? Note: One stochastic gradient descent iteration amounts to computing the gradient using one data point."
   ]
  },
  {
   "cell_type": "markdown",
   "metadata": {},
   "source": [
    "3.) Instead of a constant learning rate $(\\eta)$, repeat (2) where the learning rate decreases as $\\eta \\propto 1/t$ for the $t^{th}$ iteration. Plot the training risk vs number of iterations. Is this strategy better than having a constant $ \\eta$? You should have one plot for each preprocessing method."
   ]
  },
  {
   "cell_type": "markdown",
   "metadata": {},
   "source": [
    "4a.) Now let's use kernel logistic regression with a polynomial kernel of degree 2. Our risk is still the same as in problem 2, but our classifier is now:\n",
    "\n",
    "$$f(\\mathbf{x}) = \\sum^{n}_{i = 1} \\alpha_{i} K(\\mathbf{x}^{(i)}, \\mathbf{x}) \\textrm{ where } K(\\mathbf{x}^{(i)}, \\mathbf{x}) = (\\mathbf{x}^{T} \\mathbf{x}^{(i)} + 1)^{2}$$\n",
    "\n",
    "instead of $f(\\mathbf{x}) = \\mathbf{w}^{T}\\mathbf{x}$ as it was originally. Show that the stochastic gradient descent update for data point $\\mathbf{x}^{(i)}$ is:\n",
    "\n",
    "$$\\alpha_{i} \\leftarrow \\alpha_{i} + \\eta S(-z^{(i)})y^{(i)}$$\n",
    "\n",
    "$$\\textrm{Where } z^{(i)} = y^{(i)} f(\\mathbf{x}^{(i)}), S(-z^{(i)}) = \\dfrac{1}{1 + exp(z^{(i)})}$$\n",
    "\n",
    "Note that this measure means $\\mathbf{\\alpha} \\in \\mathbb{R}^{n}$. Also derive $\\dfrac{\\partial L}{\\partial \\alpha_{i}}$ directly from the loss function. You should get a different answer than the dual algorithm shown above. Under what condition are the two updates you derived the same?"
   ]
  },
  {
   "cell_type": "markdown",
   "metadata": {},
   "source": [
    "4b.) Finally, repeat (2), using the best preprocessing method you found, using kernel logistic ridge regression. Use whichever learning rate scheme you wish. $\\gamma = 10^{-5}$. You  may optionally adjust the value of $\\gamma$. Generate a plot of training risk vs. number of iterations, and another plot of validation risk vs. number of iterations (use a 2/3, 1/3\n",
    "split). Use the following update equations (you do not need to derive them):\n",
    "\n",
    "$$\\alpha_{i} \\leftarrow \\alpha_{i} - \\gamma \\alpha_{i} + \\eta S(-z^{(i)})y^{(i)}$$\n",
    "\n",
    "$$\\alpha_{h} \\leftarrow \\alpha_{h} - \\gamma \\alpha_{h} \\textrm{ for } h \\neq i$$"
   ]
  },
  {
   "cell_type": "markdown",
   "metadata": {},
   "source": [
    "Repeat the same experiment with the linear kernel $K(\\mathbf{x}^{(i)}, \\mathbf{x}) = \\mathbf{x}^{T} \\mathbf{x}^{(i)} + 1$. Does the quadratic kernel overfit the data? For each kernel, should you decrease or increase $\\gamma$ to try to improve performance?\n",
    "\n",
    "NOTE: You are NOT supposed to use any kind of software package for logistic regression!"
   ]
  },
  {
   "cell_type": "markdown",
   "metadata": {},
   "source": [
    "# Problem 4: Real World Spam Classification\n",
    "\n",
    "Daniel recently interned as an anti-spam product manager for a large email service provider. His company uses a linear SVM to predict whether an incoming spam message is spam or ham. He notices that the number of spam messages received tends to spike massively upwards a couple minutes before and after midnight. Eager to obtain a return offer, he adds the time-stamp of the received message, stored as number of milliseconds since the previous midnight, to each feature vector for the SVM to train on, in hopes that the ML model will be able to identify the abnormal spike in spam volume at night. To his dismay, after A/B testing with his newly added feature, Daniel discovers that the linear SVM's success rate barely improves. He wants to try to use a kernel to improve his model, but unfortunately he is limited to a quadratic kernel.\n",
    "\n",
    "Why can't the linear SVM utilize the new feature well, and what can Daniel do to improve his results? This is an actual interview question Daniel received for a machine learning engineering position!\n",
    "\n",
    "Write a short explanation. This question is open ended and there can be many correct answers. It is not necessary, but feel free to do your own research as long as you cite any sources."
   ]
  }
 ],
 "metadata": {
  "kernelspec": {
   "display_name": "Python 3",
   "language": "python",
   "name": "python3"
  },
  "language_info": {
   "codemirror_mode": {
    "name": "ipython",
    "version": 3
   },
   "file_extension": ".py",
   "mimetype": "text/x-python",
   "name": "python",
   "nbconvert_exporter": "python",
   "pygments_lexer": "ipython3",
   "version": "3.4.3"
  }
 },
 "nbformat": 4,
 "nbformat_minor": 0
}
